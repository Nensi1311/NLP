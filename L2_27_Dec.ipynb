{
 "cells": [
  {
   "cell_type": "code",
   "execution_count": 1,
   "metadata": {
    "executionInfo": {
     "elapsed": 3161,
     "status": "ok",
     "timestamp": 1735292842474,
     "user": {
      "displayName": "22AIML026 YAGNIK PAGHADAL",
      "userId": "13276437627193538694"
     },
     "user_tz": -330
    },
    "id": "OEbhAY72V_LS"
   },
   "outputs": [],
   "source": [
    "from nltk.stem import WordNetLemmatizer"
   ]
  },
  {
   "cell_type": "code",
   "execution_count": 2,
   "metadata": {
    "executionInfo": {
     "elapsed": 7,
     "status": "ok",
     "timestamp": 1735292842475,
     "user": {
      "displayName": "22AIML026 YAGNIK PAGHADAL",
      "userId": "13276437627193538694"
     },
     "user_tz": -330
    },
    "id": "UhMmWV_eWKsu"
   },
   "outputs": [],
   "source": [
    "lemmatizer = WordNetLemmatizer()"
   ]
  },
  {
   "cell_type": "code",
   "execution_count": 3,
   "metadata": {
    "colab": {
     "base_uri": "https://localhost:8080/"
    },
    "executionInfo": {
     "elapsed": 6,
     "status": "ok",
     "timestamp": 1735292842475,
     "user": {
      "displayName": "22AIML026 YAGNIK PAGHADAL",
      "userId": "13276437627193538694"
     },
     "user_tz": -330
    },
    "id": "H4CGrisdXEsA",
    "outputId": "f50b2ca9-55dc-4f65-9680-0fdf0b153c66"
   },
   "outputs": [
    {
     "name": "stderr",
     "output_type": "stream",
     "text": [
      "[nltk_data] Downloading package wordnet to\n",
      "[nltk_data]     C:\\Users\\nensi\\AppData\\Roaming\\nltk_data...\n",
      "[nltk_data]   Package wordnet is already up-to-date!\n"
     ]
    },
    {
     "data": {
      "text/plain": [
       "True"
      ]
     },
     "execution_count": 3,
     "metadata": {},
     "output_type": "execute_result"
    }
   ],
   "source": [
    " import nltk\n",
    " nltk.download('wordnet')"
   ]
  },
  {
   "cell_type": "code",
   "execution_count": 4,
   "metadata": {
    "colab": {
     "base_uri": "https://localhost:8080/"
    },
    "executionInfo": {
     "elapsed": 10856,
     "status": "ok",
     "timestamp": 1735292853327,
     "user": {
      "displayName": "22AIML026 YAGNIK PAGHADAL",
      "userId": "13276437627193538694"
     },
     "user_tz": -330
    },
    "id": "kfaGoVcyWsCY",
    "outputId": "bf6bb99d-5154-453f-a507-2ef20f16781d"
   },
   "outputs": [
    {
     "name": "stdout",
     "output_type": "stream",
     "text": [
      "rocks : rock\n",
      "corpora:  corpus\n"
     ]
    }
   ],
   "source": [
    "print(\"rocks :\", lemmatizer.lemmatize(\"rocks\"))\n",
    "print(\"corpora: \", lemmatizer.lemmatize(\"corpora\"))"
   ]
  },
  {
   "cell_type": "code",
   "execution_count": 5,
   "metadata": {
    "colab": {
     "base_uri": "https://localhost:8080/"
    },
    "executionInfo": {
     "elapsed": 11,
     "status": "ok",
     "timestamp": 1735292853327,
     "user": {
      "displayName": "22AIML026 YAGNIK PAGHADAL",
      "userId": "13276437627193538694"
     },
     "user_tz": -330
    },
    "id": "JQT-eT57W34b",
    "outputId": "1aec3c93-0685-419a-9ba4-f4086a466619"
   },
   "outputs": [
    {
     "name": "stdout",
     "output_type": "stream",
     "text": [
      "better : good\n"
     ]
    }
   ],
   "source": [
    "print(\"better :\",lemmatizer.lemmatize(\"better\", pos =\"a\"))"
   ]
  },
  {
   "cell_type": "code",
   "execution_count": 6,
   "metadata": {
    "colab": {
     "base_uri": "https://localhost:8080/"
    },
    "executionInfo": {
     "elapsed": 10,
     "status": "ok",
     "timestamp": 1735292853327,
     "user": {
      "displayName": "22AIML026 YAGNIK PAGHADAL",
      "userId": "13276437627193538694"
     },
     "user_tz": -330
    },
    "id": "VODKJXnZXsvd",
    "outputId": "832bcb6d-cf4c-4d90-a02e-831005118f4d"
   },
   "outputs": [
    {
     "name": "stdout",
     "output_type": "stream",
     "text": [
      "better : better\n"
     ]
    }
   ],
   "source": [
    "print(\"better :\",lemmatizer.lemmatize(\"better\", pos =\"v\"))"
   ]
  },
  {
   "cell_type": "code",
   "execution_count": 9,
   "metadata": {},
   "outputs": [
    {
     "name": "stdout",
     "output_type": "stream",
     "text": [
      "Requirement already satisfied: spacy in c:\\users\\nensi\\anaconda3\\lib\\site-packages (3.8.3)\n",
      "Requirement already satisfied: packaging>=20.0 in c:\\users\\nensi\\anaconda3\\lib\\site-packages (from spacy) (22.0)\n",
      "Requirement already satisfied: spacy-loggers<2.0.0,>=1.0.0 in c:\\users\\nensi\\anaconda3\\lib\\site-packages (from spacy) (1.0.5)\n",
      "Requirement already satisfied: typer<1.0.0,>=0.3.0 in c:\\users\\nensi\\anaconda3\\lib\\site-packages (from spacy) (0.15.1)\n",
      "Requirement already satisfied: wasabi<1.2.0,>=0.9.1 in c:\\users\\nensi\\anaconda3\\lib\\site-packages (from spacy) (1.1.3)\n",
      "Requirement already satisfied: requests<3.0.0,>=2.13.0 in c:\\users\\nensi\\anaconda3\\lib\\site-packages (from spacy) (2.28.1)\n",
      "Requirement already satisfied: jinja2 in c:\\users\\nensi\\anaconda3\\lib\\site-packages (from spacy) (3.1.2)\n",
      "Requirement already satisfied: preshed<3.1.0,>=3.0.2 in c:\\users\\nensi\\anaconda3\\lib\\site-packages (from spacy) (3.0.9)\n",
      "Requirement already satisfied: murmurhash<1.1.0,>=0.28.0 in c:\\users\\nensi\\anaconda3\\lib\\site-packages (from spacy) (1.0.11)\n",
      "Requirement already satisfied: srsly<3.0.0,>=2.4.3 in c:\\users\\nensi\\anaconda3\\lib\\site-packages (from spacy) (2.5.0)\n",
      "Requirement already satisfied: langcodes<4.0.0,>=3.2.0 in c:\\users\\nensi\\anaconda3\\lib\\site-packages (from spacy) (3.5.0)\n",
      "Requirement already satisfied: spacy-legacy<3.1.0,>=3.0.11 in c:\\users\\nensi\\anaconda3\\lib\\site-packages (from spacy) (3.0.12)\n",
      "Requirement already satisfied: numpy>=1.19.0 in c:\\users\\nensi\\anaconda3\\lib\\site-packages (from spacy) (1.26.4)\n",
      "Requirement already satisfied: pydantic!=1.8,!=1.8.1,<3.0.0,>=1.7.4 in c:\\users\\nensi\\anaconda3\\lib\\site-packages (from spacy) (2.10.4)\n",
      "Requirement already satisfied: thinc<8.4.0,>=8.3.0 in c:\\users\\nensi\\anaconda3\\lib\\site-packages (from spacy) (8.3.3)\n",
      "Requirement already satisfied: cymem<2.1.0,>=2.0.2 in c:\\users\\nensi\\anaconda3\\lib\\site-packages (from spacy) (2.0.10)\n",
      "Requirement already satisfied: tqdm<5.0.0,>=4.38.0 in c:\\users\\nensi\\anaconda3\\lib\\site-packages (from spacy) (4.64.1)\n",
      "Requirement already satisfied: catalogue<2.1.0,>=2.0.6 in c:\\users\\nensi\\anaconda3\\lib\\site-packages (from spacy) (2.0.10)\n",
      "Requirement already satisfied: weasel<0.5.0,>=0.1.0 in c:\\users\\nensi\\anaconda3\\lib\\site-packages (from spacy) (0.4.1)\n",
      "Requirement already satisfied: setuptools in c:\\users\\nensi\\anaconda3\\lib\\site-packages (from spacy) (65.6.3)\n",
      "Requirement already satisfied: language-data>=1.2 in c:\\users\\nensi\\anaconda3\\lib\\site-packages (from langcodes<4.0.0,>=3.2.0->spacy) (1.3.0)\n",
      "Requirement already satisfied: pydantic-core==2.27.2 in c:\\users\\nensi\\anaconda3\\lib\\site-packages (from pydantic!=1.8,!=1.8.1,<3.0.0,>=1.7.4->spacy) (2.27.2)\n",
      "Requirement already satisfied: typing-extensions>=4.12.2 in c:\\users\\nensi\\anaconda3\\lib\\site-packages (from pydantic!=1.8,!=1.8.1,<3.0.0,>=1.7.4->spacy) (4.12.2)\n",
      "Requirement already satisfied: annotated-types>=0.6.0 in c:\\users\\nensi\\anaconda3\\lib\\site-packages (from pydantic!=1.8,!=1.8.1,<3.0.0,>=1.7.4->spacy) (0.7.0)\n",
      "Requirement already satisfied: idna<4,>=2.5 in c:\\users\\nensi\\anaconda3\\lib\\site-packages (from requests<3.0.0,>=2.13.0->spacy) (3.4)\n",
      "Requirement already satisfied: urllib3<1.27,>=1.21.1 in c:\\users\\nensi\\anaconda3\\lib\\site-packages (from requests<3.0.0,>=2.13.0->spacy) (1.26.14)\n",
      "Requirement already satisfied: charset-normalizer<3,>=2 in c:\\users\\nensi\\anaconda3\\lib\\site-packages (from requests<3.0.0,>=2.13.0->spacy) (2.0.4)\n",
      "Requirement already satisfied: certifi>=2017.4.17 in c:\\users\\nensi\\anaconda3\\lib\\site-packages (from requests<3.0.0,>=2.13.0->spacy) (2022.12.7)\n",
      "Requirement already satisfied: blis<1.2.0,>=1.1.0 in c:\\users\\nensi\\anaconda3\\lib\\site-packages (from thinc<8.4.0,>=8.3.0->spacy) (1.1.0)\n",
      "Requirement already satisfied: confection<1.0.0,>=0.0.1 in c:\\users\\nensi\\anaconda3\\lib\\site-packages (from thinc<8.4.0,>=8.3.0->spacy) (0.1.5)\n",
      "Requirement already satisfied: colorama in c:\\users\\nensi\\anaconda3\\lib\\site-packages (from tqdm<5.0.0,>=4.38.0->spacy) (0.4.6)\n",
      "Requirement already satisfied: click>=8.0.0 in c:\\users\\nensi\\anaconda3\\lib\\site-packages (from typer<1.0.0,>=0.3.0->spacy) (8.0.4)\n",
      "Requirement already satisfied: rich>=10.11.0 in c:\\users\\nensi\\anaconda3\\lib\\site-packages (from typer<1.0.0,>=0.3.0->spacy) (13.7.1)\n",
      "Requirement already satisfied: shellingham>=1.3.0 in c:\\users\\nensi\\anaconda3\\lib\\site-packages (from typer<1.0.0,>=0.3.0->spacy) (1.5.4)\n",
      "Requirement already satisfied: cloudpathlib<1.0.0,>=0.7.0 in c:\\users\\nensi\\anaconda3\\lib\\site-packages (from weasel<0.5.0,>=0.1.0->spacy) (0.20.0)\n",
      "Requirement already satisfied: smart-open<8.0.0,>=5.2.1 in c:\\users\\nensi\\anaconda3\\lib\\site-packages (from weasel<0.5.0,>=0.1.0->spacy) (5.2.1)\n",
      "Requirement already satisfied: MarkupSafe>=2.0 in c:\\users\\nensi\\anaconda3\\lib\\site-packages (from jinja2->spacy) (2.1.1)\n",
      "Requirement already satisfied: marisa-trie>=1.1.0 in c:\\users\\nensi\\anaconda3\\lib\\site-packages (from language-data>=1.2->langcodes<4.0.0,>=3.2.0->spacy) (1.2.1)\n",
      "Requirement already satisfied: markdown-it-py>=2.2.0 in c:\\users\\nensi\\anaconda3\\lib\\site-packages (from rich>=10.11.0->typer<1.0.0,>=0.3.0->spacy) (3.0.0)\n",
      "Requirement already satisfied: pygments<3.0.0,>=2.13.0 in c:\\users\\nensi\\anaconda3\\lib\\site-packages (from rich>=10.11.0->typer<1.0.0,>=0.3.0->spacy) (2.17.2)\n",
      "Requirement already satisfied: mdurl~=0.1 in c:\\users\\nensi\\anaconda3\\lib\\site-packages (from markdown-it-py>=2.2.0->rich>=10.11.0->typer<1.0.0,>=0.3.0->spacy) (0.1.2)\n",
      "Note: you may need to restart the kernel to use updated packages.\n"
     ]
    },
    {
     "name": "stderr",
     "output_type": "stream",
     "text": [
      "WARNING: Ignoring invalid distribution -illow (c:\\users\\nensi\\anaconda3\\lib\\site-packages)\n",
      "WARNING: Ignoring invalid distribution -illow (c:\\users\\nensi\\anaconda3\\lib\\site-packages)\n",
      "WARNING: Ignoring invalid distribution -illow (c:\\users\\nensi\\anaconda3\\lib\\site-packages)\n",
      "WARNING: Ignoring invalid distribution -illow (c:\\users\\nensi\\anaconda3\\lib\\site-packages)\n",
      "WARNING: Ignoring invalid distribution -illow (c:\\users\\nensi\\anaconda3\\lib\\site-packages)\n",
      "WARNING: Ignoring invalid distribution -illow (c:\\users\\nensi\\anaconda3\\lib\\site-packages)\n"
     ]
    }
   ],
   "source": [
    "pip install spacy"
   ]
  },
  {
   "cell_type": "code",
   "execution_count": 10,
   "metadata": {
    "executionInfo": {
     "elapsed": 3147,
     "status": "ok",
     "timestamp": 1735292856469,
     "user": {
      "displayName": "22AIML026 YAGNIK PAGHADAL",
      "userId": "13276437627193538694"
     },
     "user_tz": -330
    },
    "id": "GTpOppXWYGIC"
   },
   "outputs": [],
   "source": [
    "import spacy"
   ]
  },
  {
   "cell_type": "code",
   "execution_count": null,
   "metadata": {
    "colab": {
     "base_uri": "https://localhost:8080/"
    },
    "executionInfo": {
     "elapsed": 9207,
     "status": "ok",
     "timestamp": 1735292865672,
     "user": {
      "displayName": "22AIML026 YAGNIK PAGHADAL",
      "userId": "13276437627193538694"
     },
     "user_tz": -330
    },
    "id": "blImZX_IaB2R",
    "outputId": "0086d073-0004-463d-e9c0-ebb3166224e5"
   },
   "outputs": [],
   "source": [
    "!python -m spacy download en_core_web_sm"
   ]
  },
  {
   "cell_type": "code",
   "execution_count": 9,
   "metadata": {
    "executionInfo": {
     "elapsed": 1770,
     "status": "ok",
     "timestamp": 1735292867436,
     "user": {
      "displayName": "22AIML026 YAGNIK PAGHADAL",
      "userId": "13276437627193538694"
     },
     "user_tz": -330
    },
    "id": "6dev5zIXY3JB"
   },
   "outputs": [],
   "source": [
    "nlp = spacy.load(\"en_core_web_sm\")"
   ]
  },
  {
   "cell_type": "code",
   "execution_count": 10,
   "metadata": {
    "executionInfo": {
     "elapsed": 25,
     "status": "ok",
     "timestamp": 1735292867436,
     "user": {
      "displayName": "22AIML026 YAGNIK PAGHADAL",
      "userId": "13276437627193538694"
     },
     "user_tz": -330
    },
    "id": "tZ0jwW1WZfoN"
   },
   "outputs": [],
   "source": [
    "text=\"The quick brown foxes are jumping over the lazy dogs\""
   ]
  },
  {
   "cell_type": "code",
   "execution_count": 11,
   "metadata": {
    "executionInfo": {
     "elapsed": 25,
     "status": "ok",
     "timestamp": 1735292867437,
     "user": {
      "displayName": "22AIML026 YAGNIK PAGHADAL",
      "userId": "13276437627193538694"
     },
     "user_tz": -330
    },
    "id": "ZQTJt1HhaUHT"
   },
   "outputs": [],
   "source": [
    "doc=nlp(text)"
   ]
  },
  {
   "cell_type": "code",
   "execution_count": 12,
   "metadata": {
    "executionInfo": {
     "elapsed": 25,
     "status": "ok",
     "timestamp": 1735292867437,
     "user": {
      "displayName": "22AIML026 YAGNIK PAGHADAL",
      "userId": "13276437627193538694"
     },
     "user_tz": -330
    },
    "id": "NF_tW8sOaYcz"
   },
   "outputs": [],
   "source": [
    "lemmatized_tokens=[token.lemma_ for token in doc]"
   ]
  },
  {
   "cell_type": "code",
   "execution_count": 13,
   "metadata": {
    "executionInfo": {
     "elapsed": 25,
     "status": "ok",
     "timestamp": 1735292867437,
     "user": {
      "displayName": "22AIML026 YAGNIK PAGHADAL",
      "userId": "13276437627193538694"
     },
     "user_tz": -330
    },
    "id": "34TYoDnpahuy"
   },
   "outputs": [],
   "source": [
    "lemmatized_text =' '.join(lemmatized_tokens)"
   ]
  },
  {
   "cell_type": "code",
   "execution_count": 14,
   "metadata": {
    "colab": {
     "base_uri": "https://localhost:8080/"
    },
    "executionInfo": {
     "elapsed": 24,
     "status": "ok",
     "timestamp": 1735292867437,
     "user": {
      "displayName": "22AIML026 YAGNIK PAGHADAL",
      "userId": "13276437627193538694"
     },
     "user_tz": -330
    },
    "id": "rf06_5rTaw7j",
    "outputId": "c9836aa4-00aa-4969-f2c5-940d787768c3"
   },
   "outputs": [
    {
     "name": "stdout",
     "output_type": "stream",
     "text": [
      "The quick brown foxes are jumping over the lazy dogs\n"
     ]
    }
   ],
   "source": [
    "print(text)"
   ]
  },
  {
   "cell_type": "code",
   "execution_count": 15,
   "metadata": {
    "colab": {
     "base_uri": "https://localhost:8080/"
    },
    "executionInfo": {
     "elapsed": 23,
     "status": "ok",
     "timestamp": 1735292867437,
     "user": {
      "displayName": "22AIML026 YAGNIK PAGHADAL",
      "userId": "13276437627193538694"
     },
     "user_tz": -330
    },
    "id": "th2U7-1GbFFF",
    "outputId": "1634c848-fc7f-4c81-bdad-dec8eeb7eeb0"
   },
   "outputs": [
    {
     "name": "stdout",
     "output_type": "stream",
     "text": [
      "the quick brown fox be jump over the lazy dog\n"
     ]
    }
   ],
   "source": [
    "print(lemmatized_text)"
   ]
  },
  {
   "cell_type": "code",
   "execution_count": 16,
   "metadata": {
    "colab": {
     "base_uri": "https://localhost:8080/"
    },
    "executionInfo": {
     "elapsed": 20,
     "status": "ok",
     "timestamp": 1735292867438,
     "user": {
      "displayName": "22AIML026 YAGNIK PAGHADAL",
      "userId": "13276437627193538694"
     },
     "user_tz": -330
    },
    "id": "HHidRec1bKTp",
    "outputId": "a243ef85-9419-41a4-b71a-e29ac900a8ed"
   },
   "outputs": [
    {
     "name": "stderr",
     "output_type": "stream",
     "text": [
      "[nltk_data] Downloading package punkt_tab to /root/nltk_data...\n",
      "[nltk_data]   Package punkt_tab is already up-to-date!\n",
      "[nltk_data] Downloading package punkt to /root/nltk_data...\n",
      "[nltk_data]   Package punkt is already up-to-date!\n",
      "[nltk_data] Downloading package stopwords to /root/nltk_data...\n",
      "[nltk_data]   Package stopwords is already up-to-date!\n",
      "[nltk_data] Downloading package wordnet to /root/nltk_data...\n",
      "[nltk_data]   Package wordnet is already up-to-date!\n"
     ]
    },
    {
     "data": {
      "text/plain": [
       "True"
      ]
     },
     "execution_count": 16,
     "metadata": {},
     "output_type": "execute_result"
    }
   ],
   "source": [
    "import nltk\n",
    "import spacy\n",
    "from nltk.corpus import stopwords\n",
    "from nltk.stem import PorterStemmer, WordNetLemmatizer\n",
    "nltk.download('punkt_tab')\n",
    "nltk.download('punkt')\n",
    "nltk.download('stopwords')\n",
    "nltk.download('wordnet')"
   ]
  },
  {
   "cell_type": "code",
   "execution_count": 17,
   "metadata": {
    "colab": {
     "base_uri": "https://localhost:8080/"
    },
    "executionInfo": {
     "elapsed": 18,
     "status": "ok",
     "timestamp": 1735292867438,
     "user": {
      "displayName": "22AIML026 YAGNIK PAGHADAL",
      "userId": "13276437627193538694"
     },
     "user_tz": -330
    },
    "id": "rjzL14-GcPkO",
    "outputId": "1e3a878d-caf8-4e48-be2b-df2df8e82d2b"
   },
   "outputs": [
    {
     "name": "stdout",
     "output_type": "stream",
     "text": [
      "Tokens: ['The', 'Three', 'Laws', 'of', 'Robotics', ':', 'A', 'robot', 'may', 'not', 'injure', 'a', 'human', 'being', 'or', ',', 'through', 'inaction', ',', 'allow', 'a', 'human', 'being', 'to', 'come', 'to', 'harm', '.', 'A', 'robot', 'must', 'obey', 'the', 'orders', 'given', 'it', 'by', 'human', 'beings', 'except', 'where', 'such', 'orders', 'would', 'conflict', 'with', 'the', 'First', 'Law', '.', 'A', 'robot', 'must', 'protect', 'its', 'own', 'existence', 'as', 'long', 'as', 'such', 'protection', 'does', 'not', 'conflict', 'with', 'the', 'First', 'or', 'Second', 'Laws', '.']\n"
     ]
    }
   ],
   "source": [
    "text = \"\"\"The Three Laws of Robotics:\n",
    "\n",
    "A robot may not injure a human being or, through inaction, allow a human being to come to harm.\n",
    "\n",
    "A robot must obey the orders given it by human beings except where such orders would conflict with the First Law.\n",
    "\n",
    "A robot must protect its own existence as long as such protection does not conflict with the First or Second Laws.\"\"\"\n",
    "\n",
    "tokens = nltk.word_tokenize(text)\n",
    "print(\"Tokens:\", tokens)"
   ]
  },
  {
   "cell_type": "code",
   "execution_count": 18,
   "metadata": {
    "colab": {
     "base_uri": "https://localhost:8080/"
    },
    "executionInfo": {
     "elapsed": 16,
     "status": "ok",
     "timestamp": 1735292867438,
     "user": {
      "displayName": "22AIML026 YAGNIK PAGHADAL",
      "userId": "13276437627193538694"
     },
     "user_tz": -330
    },
    "id": "mPXWUyTzcUC1",
    "outputId": "a4efe69c-7b88-44d9-b33a-1ad2b6bdd8c6"
   },
   "outputs": [
    {
     "name": "stdout",
     "output_type": "stream",
     "text": [
      "Filtered Tokens (Stop words removed): ['Three', 'Laws', 'Robotics', ':', 'robot', 'may', 'injure', 'human', ',', 'inaction', ',', 'allow', 'human', 'come', 'harm', '.', 'robot', 'must', 'obey', 'orders', 'given', 'human', 'beings', 'except', 'orders', 'would', 'conflict', 'First', 'Law', '.', 'robot', 'must', 'protect', 'existence', 'long', 'protection', 'conflict', 'First', 'Second', 'Laws', '.']\n"
     ]
    }
   ],
   "source": [
    "stop_words = set(stopwords.words('english'))\n",
    "filtered_tokens = [token for token in tokens if token.lower() not in stop_words]\n",
    "print(\"Filtered Tokens (Stop words removed):\", filtered_tokens)"
   ]
  },
  {
   "cell_type": "code",
   "execution_count": 19,
   "metadata": {
    "colab": {
     "base_uri": "https://localhost:8080/"
    },
    "executionInfo": {
     "elapsed": 14,
     "status": "ok",
     "timestamp": 1735292867438,
     "user": {
      "displayName": "22AIML026 YAGNIK PAGHADAL",
      "userId": "13276437627193538694"
     },
     "user_tz": -330
    },
    "id": "GLEiRVr3cZ8V",
    "outputId": "ff696269-421c-4644-da51-a3ce5e71cbc2"
   },
   "outputs": [
    {
     "name": "stdout",
     "output_type": "stream",
     "text": [
      "Stemmed Tokens: ['three', 'law', 'robot', ':', 'robot', 'may', 'injur', 'human', ',', 'inact', ',', 'allow', 'human', 'come', 'harm', '.', 'robot', 'must', 'obey', 'order', 'given', 'human', 'be', 'except', 'order', 'would', 'conflict', 'first', 'law', '.', 'robot', 'must', 'protect', 'exist', 'long', 'protect', 'conflict', 'first', 'second', 'law', '.']\n"
     ]
    }
   ],
   "source": [
    "stemmer = PorterStemmer()\n",
    "stemmed_tokens = [stemmer.stem(token) for token in filtered_tokens]\n",
    "print(\"Stemmed Tokens:\", stemmed_tokens)"
   ]
  },
  {
   "cell_type": "code",
   "execution_count": 20,
   "metadata": {
    "colab": {
     "base_uri": "https://localhost:8080/"
    },
    "executionInfo": {
     "elapsed": 12,
     "status": "ok",
     "timestamp": 1735292867438,
     "user": {
      "displayName": "22AIML026 YAGNIK PAGHADAL",
      "userId": "13276437627193538694"
     },
     "user_tz": -330
    },
    "id": "uscb3GHFccAg",
    "outputId": "f9cfd6c5-53cd-4df8-b5aa-5ab5bb82d781"
   },
   "outputs": [
    {
     "name": "stdout",
     "output_type": "stream",
     "text": [
      "Lemmatized Tokens: ['Three', 'Laws', 'Robotics', ':', 'robot', 'may', 'injure', 'human', ',', 'inaction', ',', 'allow', 'human', 'come', 'harm', '.', 'robot', 'must', 'obey', 'order', 'given', 'human', 'being', 'except', 'order', 'would', 'conflict', 'First', 'Law', '.', 'robot', 'must', 'protect', 'existence', 'long', 'protection', 'conflict', 'First', 'Second', 'Laws', '.']\n"
     ]
    }
   ],
   "source": [
    "lemmatizer = WordNetLemmatizer()\n",
    "lemmatized_tokens = [lemmatizer.lemmatize(token) for token in filtered_tokens]\n",
    "print(\"Lemmatized Tokens:\", lemmatized_tokens)"
   ]
  },
  {
   "cell_type": "code",
   "execution_count": 21,
   "metadata": {
    "colab": {
     "base_uri": "https://localhost:8080/"
    },
    "executionInfo": {
     "elapsed": 1670,
     "status": "ok",
     "timestamp": 1735292869098,
     "user": {
      "displayName": "22AIML026 YAGNIK PAGHADAL",
      "userId": "13276437627193538694"
     },
     "user_tz": -330
    },
    "id": "n63V4T2tc1Bu",
    "outputId": "a94e821a-ea1b-40fa-df3e-4260ffd125bc"
   },
   "outputs": [
    {
     "name": "stdout",
     "output_type": "stream",
     "text": [
      "\n",
      "Lemmatized Tokens (spaCy): ['Laws', 'robotic', 'robot', 'injure', 'human', 'inaction', 'allow', 'human', 'come', 'harm', 'robot', 'obey', 'order', 'give', 'human', 'being', 'order', 'conflict', 'Law', 'robot', 'protect', 'existence', 'long', 'protection', 'conflict', 'Second', 'Laws']\n"
     ]
    }
   ],
   "source": [
    "# Load spaCy model\n",
    "nlp = spacy.load(\"en_core_web_sm\")\n",
    "doc = nlp(text)\n",
    "spacy_lemmatized_tokens = [token.lemma_ for token in doc if token.is_alpha and not token.is_stop]\n",
    "\n",
    "\n",
    "print(\"\\nLemmatized Tokens (spaCy):\", spacy_lemmatized_tokens)"
   ]
  },
  {
   "cell_type": "code",
   "execution_count": 22,
   "metadata": {
    "executionInfo": {
     "elapsed": 15,
     "status": "ok",
     "timestamp": 1735292869098,
     "user": {
      "displayName": "22AIML026 YAGNIK PAGHADAL",
      "userId": "13276437627193538694"
     },
     "user_tz": -330
    },
    "id": "aGww9XssdGwU"
   },
   "outputs": [],
   "source": [
    "from nltk.tokenize import word_tokenize\n",
    "from nltk import pos_tag"
   ]
  },
  {
   "cell_type": "code",
   "execution_count": 23,
   "metadata": {
    "executionInfo": {
     "elapsed": 14,
     "status": "ok",
     "timestamp": 1735292869098,
     "user": {
      "displayName": "22AIML026 YAGNIK PAGHADAL",
      "userId": "13276437627193538694"
     },
     "user_tz": -330
    },
    "id": "xsm_B_QlfjL1"
   },
   "outputs": [],
   "source": [
    "text =\"NLTK is a powerful library for nlp\""
   ]
  },
  {
   "cell_type": "code",
   "execution_count": 24,
   "metadata": {
    "executionInfo": {
     "elapsed": 14,
     "status": "ok",
     "timestamp": 1735292869098,
     "user": {
      "displayName": "22AIML026 YAGNIK PAGHADAL",
      "userId": "13276437627193538694"
     },
     "user_tz": -330
    },
    "id": "1WMjyH7_frFE"
   },
   "outputs": [],
   "source": [
    "from nltk.tokenize import word_tokenize\n",
    "from nltk import pos_tag\n",
    "import nltk\n",
    "\n",
    "text =\"NLTK is a powerful library for nlp\"\n",
    "\n"
   ]
  },
  {
   "cell_type": "code",
   "execution_count": 37,
   "metadata": {
    "colab": {
     "base_uri": "https://localhost:8080/"
    },
    "executionInfo": {
     "elapsed": 1414,
     "status": "ok",
     "timestamp": 1735293168454,
     "user": {
      "displayName": "22AIML026 YAGNIK PAGHADAL",
      "userId": "13276437627193538694"
     },
     "user_tz": -330
    },
    "id": "tmawPfHbfw3s",
    "outputId": "1c0da74a-08bb-4690-cc54-6ee587fedc62"
   },
   "outputs": [
    {
     "name": "stderr",
     "output_type": "stream",
     "text": [
      "[nltk_data] Downloading package averaged_perceptron_tagger_eng to\n",
      "[nltk_data]     /root/nltk_data...\n",
      "[nltk_data]   Unzipping taggers/averaged_perceptron_tagger_eng.zip.\n"
     ]
    },
    {
     "data": {
      "text/plain": [
       "True"
      ]
     },
     "execution_count": 37,
     "metadata": {},
     "output_type": "execute_result"
    }
   ],
   "source": [
    "# Download the 'averaged_perceptron_tagger' data\n",
    "nltk.download('averaged_perceptron_tagger_eng')"
   ]
  },
  {
   "cell_type": "code",
   "execution_count": 38,
   "metadata": {
    "executionInfo": {
     "elapsed": 511,
     "status": "ok",
     "timestamp": 1735293173184,
     "user": {
      "displayName": "22AIML026 YAGNIK PAGHADAL",
      "userId": "13276437627193538694"
     },
     "user_tz": -330
    },
    "id": "p1Nka0Jtgi9D"
   },
   "outputs": [],
   "source": [
    "# Tokenize the text into individual words\n",
    "words= word_tokenize(text)\n",
    "\n"
   ]
  },
  {
   "cell_type": "code",
   "execution_count": 39,
   "metadata": {
    "executionInfo": {
     "elapsed": 2,
     "status": "ok",
     "timestamp": 1735293173754,
     "user": {
      "displayName": "22AIML026 YAGNIK PAGHADAL",
      "userId": "13276437627193538694"
     },
     "user_tz": -330
    },
    "id": "JDOly22ogkTq"
   },
   "outputs": [],
   "source": [
    "# Now you can get POS tags for each word\n",
    "pos_tags = pos_tag(words)"
   ]
  },
  {
   "cell_type": "code",
   "execution_count": 40,
   "metadata": {
    "colab": {
     "base_uri": "https://localhost:8080/"
    },
    "executionInfo": {
     "elapsed": 625,
     "status": "ok",
     "timestamp": 1735293178219,
     "user": {
      "displayName": "22AIML026 YAGNIK PAGHADAL",
      "userId": "13276437627193538694"
     },
     "user_tz": -330
    },
    "id": "Np07hGAWgsr-",
    "outputId": "ba480ebf-9445-4cac-cc14-d3a6a0e7f33c"
   },
   "outputs": [
    {
     "name": "stdout",
     "output_type": "stream",
     "text": [
      "[('NLTK', 'NNP'), ('is', 'VBZ'), ('a', 'DT'), ('powerful', 'JJ'), ('library', 'NN'), ('for', 'IN'), ('nlp', 'NN')]\n"
     ]
    }
   ],
   "source": [
    "print(pos_tags)"
   ]
  },
  {
   "cell_type": "code",
   "execution_count": null,
   "metadata": {
    "id": "vD7wtN5Eh-dL"
   },
   "outputs": [],
   "source": []
  }
 ],
 "metadata": {
  "colab": {
   "authorship_tag": "ABX9TyOLov2t5baXJkVSbRXPuktE",
   "provenance": []
  },
  "kernelspec": {
   "display_name": "Python 3 (ipykernel)",
   "language": "python",
   "name": "python3"
  },
  "language_info": {
   "codemirror_mode": {
    "name": "ipython",
    "version": 3
   },
   "file_extension": ".py",
   "mimetype": "text/x-python",
   "name": "python",
   "nbconvert_exporter": "python",
   "pygments_lexer": "ipython3",
   "version": "3.10.9"
  }
 },
 "nbformat": 4,
 "nbformat_minor": 1
}
