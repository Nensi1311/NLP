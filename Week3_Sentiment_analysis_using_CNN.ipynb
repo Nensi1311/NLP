{
  "cells": [
    {
      "cell_type": "code",
      "execution_count": null,
      "metadata": {
        "id": "ik_LePW9QQSe"
      },
      "outputs": [],
      "source": [
        "import csv\n",
        "import pandas as pd\n",
        "import numpy as np\n",
        "from sklearn.feature_extraction.text import TfidfVectorizer, CountVectorizer\n",
        "from sklearn.feature_extraction import _stop_words\n",
        "from sklearn import metrics\n",
        "from sklearn.model_selection import train_test_split\n",
        "import matplotlib.pyplot as plt\n",
        "from sklearn.model_selection import cross_val_score\n",
        "import keras\n",
        "import seaborn as sns\n",
        "sns.set(color_codes=True)"
      ]
    },
    {
      "cell_type": "code",
      "execution_count": null,
      "metadata": {
        "id": "g-G9g1wZQSbo"
      },
      "outputs": [],
      "source": [
        "URL_tr = \"https://raw.githubusercontent.com/cacoderquan/Sentiment-Analysis-on-the-Rotten-Tomatoes-movie-review-dataset/master/train.tsv\""
      ]
    },
    {
      "cell_type": "code",
      "execution_count": null,
      "metadata": {
        "id": "da1o7U-kQhmR"
      },
      "outputs": [],
      "source": [
        "data = pd.read_csv(URL_tr, sep = '\\t')"
      ]
    },
    {
      "cell_type": "code",
      "execution_count": null,
      "metadata": {
        "colab": {
          "base_uri": "https://localhost:8080/",
          "height": 833
        },
        "id": "sEggVG_DQj4A",
        "outputId": "e84391f8-b42e-4144-e773-5910190d2d7b"
      },
      "outputs": [
        {
          "output_type": "execute_result",
          "data": {
            "text/plain": [
              "     PhraseId  SentenceId                                             Phrase  \\\n",
              "0           1           1  A series of escapades demonstrating the adage ...   \n",
              "63         64           2  This quiet , introspective and entertaining in...   \n",
              "81         82           3  Even fans of Ismail Merchant 's work , I suspe...   \n",
              "116       117           4  A positively thrilling combination of ethnogra...   \n",
              "156       157           5  Aggressive self-glorification and a manipulati...   \n",
              "166       167           6  A comedy-drama of nearly epic proportions root...   \n",
              "198       199           7  Narratively , Trouble Every Day is a plodding ...   \n",
              "213       214           8  The Importance of Being Earnest , so thick wit...   \n",
              "247       248           9              But it does n't leave you with much .   \n",
              "259       260          10            You could hate it for the same reason .   \n",
              "271       272          11  There 's little to recommend Snow Dogs , unles...   \n",
              "306       307          12  Kung Pow is Oedekerk 's realization of his chi...   \n",
              "352       353          13             The performances are an absolute joy .   \n",
              "363       364          14  Fresnadillo has something serious to say about...   \n",
              "407       408          15  I still like Moonlight Mile , better judgment ...   \n",
              "423       424          16  A welcome relief from baseball movies that try...   \n",
              "458       459          17  a bilingual charmer , just like the woman who ...   \n",
              "473       474          18  Like a less dizzily gorgeous companion to Mr. ...   \n",
              "516       517          19  As inept as big-screen remakes of The Avengers...   \n",
              "536       537          20  It 's everything you 'd expect -- but nothing ...   \n",
              "551       552          21                  Best indie of the year , so far .   \n",
              "563       564          22  Hatfield and Hicks make the oddest of couples ...   \n",
              "619       620          23  It 's like going to a house party and watching...   \n",
              "647       648          24  That the Chuck Norris `` grenade gag '' occurs...   \n",
              "686       687          25  The plot is romantic comedy boilerplate from s...   \n",
              "\n",
              "     Sentiment  \n",
              "0            1  \n",
              "63           4  \n",
              "81           1  \n",
              "116          3  \n",
              "156          1  \n",
              "166          4  \n",
              "198          1  \n",
              "213          3  \n",
              "247          1  \n",
              "259          1  \n",
              "271          1  \n",
              "306          1  \n",
              "352          4  \n",
              "363          3  \n",
              "407          3  \n",
              "423          3  \n",
              "458          3  \n",
              "473          2  \n",
              "516          1  \n",
              "536          2  \n",
              "551          4  \n",
              "563          3  \n",
              "619          1  \n",
              "647          2  \n",
              "686          2  "
            ],
            "text/html": [
              "\n",
              "  <div id=\"df-4d4a4388-1009-4c23-ab0e-eb7870f68918\" class=\"colab-df-container\">\n",
              "    <div>\n",
              "<style scoped>\n",
              "    .dataframe tbody tr th:only-of-type {\n",
              "        vertical-align: middle;\n",
              "    }\n",
              "\n",
              "    .dataframe tbody tr th {\n",
              "        vertical-align: top;\n",
              "    }\n",
              "\n",
              "    .dataframe thead th {\n",
              "        text-align: right;\n",
              "    }\n",
              "</style>\n",
              "<table border=\"1\" class=\"dataframe\">\n",
              "  <thead>\n",
              "    <tr style=\"text-align: right;\">\n",
              "      <th></th>\n",
              "      <th>PhraseId</th>\n",
              "      <th>SentenceId</th>\n",
              "      <th>Phrase</th>\n",
              "      <th>Sentiment</th>\n",
              "    </tr>\n",
              "  </thead>\n",
              "  <tbody>\n",
              "    <tr>\n",
              "      <th>0</th>\n",
              "      <td>1</td>\n",
              "      <td>1</td>\n",
              "      <td>A series of escapades demonstrating the adage ...</td>\n",
              "      <td>1</td>\n",
              "    </tr>\n",
              "    <tr>\n",
              "      <th>63</th>\n",
              "      <td>64</td>\n",
              "      <td>2</td>\n",
              "      <td>This quiet , introspective and entertaining in...</td>\n",
              "      <td>4</td>\n",
              "    </tr>\n",
              "    <tr>\n",
              "      <th>81</th>\n",
              "      <td>82</td>\n",
              "      <td>3</td>\n",
              "      <td>Even fans of Ismail Merchant 's work , I suspe...</td>\n",
              "      <td>1</td>\n",
              "    </tr>\n",
              "    <tr>\n",
              "      <th>116</th>\n",
              "      <td>117</td>\n",
              "      <td>4</td>\n",
              "      <td>A positively thrilling combination of ethnogra...</td>\n",
              "      <td>3</td>\n",
              "    </tr>\n",
              "    <tr>\n",
              "      <th>156</th>\n",
              "      <td>157</td>\n",
              "      <td>5</td>\n",
              "      <td>Aggressive self-glorification and a manipulati...</td>\n",
              "      <td>1</td>\n",
              "    </tr>\n",
              "    <tr>\n",
              "      <th>166</th>\n",
              "      <td>167</td>\n",
              "      <td>6</td>\n",
              "      <td>A comedy-drama of nearly epic proportions root...</td>\n",
              "      <td>4</td>\n",
              "    </tr>\n",
              "    <tr>\n",
              "      <th>198</th>\n",
              "      <td>199</td>\n",
              "      <td>7</td>\n",
              "      <td>Narratively , Trouble Every Day is a plodding ...</td>\n",
              "      <td>1</td>\n",
              "    </tr>\n",
              "    <tr>\n",
              "      <th>213</th>\n",
              "      <td>214</td>\n",
              "      <td>8</td>\n",
              "      <td>The Importance of Being Earnest , so thick wit...</td>\n",
              "      <td>3</td>\n",
              "    </tr>\n",
              "    <tr>\n",
              "      <th>247</th>\n",
              "      <td>248</td>\n",
              "      <td>9</td>\n",
              "      <td>But it does n't leave you with much .</td>\n",
              "      <td>1</td>\n",
              "    </tr>\n",
              "    <tr>\n",
              "      <th>259</th>\n",
              "      <td>260</td>\n",
              "      <td>10</td>\n",
              "      <td>You could hate it for the same reason .</td>\n",
              "      <td>1</td>\n",
              "    </tr>\n",
              "    <tr>\n",
              "      <th>271</th>\n",
              "      <td>272</td>\n",
              "      <td>11</td>\n",
              "      <td>There 's little to recommend Snow Dogs , unles...</td>\n",
              "      <td>1</td>\n",
              "    </tr>\n",
              "    <tr>\n",
              "      <th>306</th>\n",
              "      <td>307</td>\n",
              "      <td>12</td>\n",
              "      <td>Kung Pow is Oedekerk 's realization of his chi...</td>\n",
              "      <td>1</td>\n",
              "    </tr>\n",
              "    <tr>\n",
              "      <th>352</th>\n",
              "      <td>353</td>\n",
              "      <td>13</td>\n",
              "      <td>The performances are an absolute joy .</td>\n",
              "      <td>4</td>\n",
              "    </tr>\n",
              "    <tr>\n",
              "      <th>363</th>\n",
              "      <td>364</td>\n",
              "      <td>14</td>\n",
              "      <td>Fresnadillo has something serious to say about...</td>\n",
              "      <td>3</td>\n",
              "    </tr>\n",
              "    <tr>\n",
              "      <th>407</th>\n",
              "      <td>408</td>\n",
              "      <td>15</td>\n",
              "      <td>I still like Moonlight Mile , better judgment ...</td>\n",
              "      <td>3</td>\n",
              "    </tr>\n",
              "    <tr>\n",
              "      <th>423</th>\n",
              "      <td>424</td>\n",
              "      <td>16</td>\n",
              "      <td>A welcome relief from baseball movies that try...</td>\n",
              "      <td>3</td>\n",
              "    </tr>\n",
              "    <tr>\n",
              "      <th>458</th>\n",
              "      <td>459</td>\n",
              "      <td>17</td>\n",
              "      <td>a bilingual charmer , just like the woman who ...</td>\n",
              "      <td>3</td>\n",
              "    </tr>\n",
              "    <tr>\n",
              "      <th>473</th>\n",
              "      <td>474</td>\n",
              "      <td>18</td>\n",
              "      <td>Like a less dizzily gorgeous companion to Mr. ...</td>\n",
              "      <td>2</td>\n",
              "    </tr>\n",
              "    <tr>\n",
              "      <th>516</th>\n",
              "      <td>517</td>\n",
              "      <td>19</td>\n",
              "      <td>As inept as big-screen remakes of The Avengers...</td>\n",
              "      <td>1</td>\n",
              "    </tr>\n",
              "    <tr>\n",
              "      <th>536</th>\n",
              "      <td>537</td>\n",
              "      <td>20</td>\n",
              "      <td>It 's everything you 'd expect -- but nothing ...</td>\n",
              "      <td>2</td>\n",
              "    </tr>\n",
              "    <tr>\n",
              "      <th>551</th>\n",
              "      <td>552</td>\n",
              "      <td>21</td>\n",
              "      <td>Best indie of the year , so far .</td>\n",
              "      <td>4</td>\n",
              "    </tr>\n",
              "    <tr>\n",
              "      <th>563</th>\n",
              "      <td>564</td>\n",
              "      <td>22</td>\n",
              "      <td>Hatfield and Hicks make the oddest of couples ...</td>\n",
              "      <td>3</td>\n",
              "    </tr>\n",
              "    <tr>\n",
              "      <th>619</th>\n",
              "      <td>620</td>\n",
              "      <td>23</td>\n",
              "      <td>It 's like going to a house party and watching...</td>\n",
              "      <td>1</td>\n",
              "    </tr>\n",
              "    <tr>\n",
              "      <th>647</th>\n",
              "      <td>648</td>\n",
              "      <td>24</td>\n",
              "      <td>That the Chuck Norris `` grenade gag '' occurs...</td>\n",
              "      <td>2</td>\n",
              "    </tr>\n",
              "    <tr>\n",
              "      <th>686</th>\n",
              "      <td>687</td>\n",
              "      <td>25</td>\n",
              "      <td>The plot is romantic comedy boilerplate from s...</td>\n",
              "      <td>2</td>\n",
              "    </tr>\n",
              "  </tbody>\n",
              "</table>\n",
              "</div>\n",
              "    <div class=\"colab-df-buttons\">\n",
              "\n",
              "  <div class=\"colab-df-container\">\n",
              "    <button class=\"colab-df-convert\" onclick=\"convertToInteractive('df-4d4a4388-1009-4c23-ab0e-eb7870f68918')\"\n",
              "            title=\"Convert this dataframe to an interactive table.\"\n",
              "            style=\"display:none;\">\n",
              "\n",
              "  <svg xmlns=\"http://www.w3.org/2000/svg\" height=\"24px\" viewBox=\"0 -960 960 960\">\n",
              "    <path d=\"M120-120v-720h720v720H120Zm60-500h600v-160H180v160Zm220 220h160v-160H400v160Zm0 220h160v-160H400v160ZM180-400h160v-160H180v160Zm440 0h160v-160H620v160ZM180-180h160v-160H180v160Zm440 0h160v-160H620v160Z\"/>\n",
              "  </svg>\n",
              "    </button>\n",
              "\n",
              "  <style>\n",
              "    .colab-df-container {\n",
              "      display:flex;\n",
              "      gap: 12px;\n",
              "    }\n",
              "\n",
              "    .colab-df-convert {\n",
              "      background-color: #E8F0FE;\n",
              "      border: none;\n",
              "      border-radius: 50%;\n",
              "      cursor: pointer;\n",
              "      display: none;\n",
              "      fill: #1967D2;\n",
              "      height: 32px;\n",
              "      padding: 0 0 0 0;\n",
              "      width: 32px;\n",
              "    }\n",
              "\n",
              "    .colab-df-convert:hover {\n",
              "      background-color: #E2EBFA;\n",
              "      box-shadow: 0px 1px 2px rgba(60, 64, 67, 0.3), 0px 1px 3px 1px rgba(60, 64, 67, 0.15);\n",
              "      fill: #174EA6;\n",
              "    }\n",
              "\n",
              "    .colab-df-buttons div {\n",
              "      margin-bottom: 4px;\n",
              "    }\n",
              "\n",
              "    [theme=dark] .colab-df-convert {\n",
              "      background-color: #3B4455;\n",
              "      fill: #D2E3FC;\n",
              "    }\n",
              "\n",
              "    [theme=dark] .colab-df-convert:hover {\n",
              "      background-color: #434B5C;\n",
              "      box-shadow: 0px 1px 3px 1px rgba(0, 0, 0, 0.15);\n",
              "      filter: drop-shadow(0px 1px 2px rgba(0, 0, 0, 0.3));\n",
              "      fill: #FFFFFF;\n",
              "    }\n",
              "  </style>\n",
              "\n",
              "    <script>\n",
              "      const buttonEl =\n",
              "        document.querySelector('#df-4d4a4388-1009-4c23-ab0e-eb7870f68918 button.colab-df-convert');\n",
              "      buttonEl.style.display =\n",
              "        google.colab.kernel.accessAllowed ? 'block' : 'none';\n",
              "\n",
              "      async function convertToInteractive(key) {\n",
              "        const element = document.querySelector('#df-4d4a4388-1009-4c23-ab0e-eb7870f68918');\n",
              "        const dataTable =\n",
              "          await google.colab.kernel.invokeFunction('convertToInteractive',\n",
              "                                                    [key], {});\n",
              "        if (!dataTable) return;\n",
              "\n",
              "        const docLinkHtml = 'Like what you see? Visit the ' +\n",
              "          '<a target=\"_blank\" href=https://colab.research.google.com/notebooks/data_table.ipynb>data table notebook</a>'\n",
              "          + ' to learn more about interactive tables.';\n",
              "        element.innerHTML = '';\n",
              "        dataTable['output_type'] = 'display_data';\n",
              "        await google.colab.output.renderOutput(dataTable, element);\n",
              "        const docLink = document.createElement('div');\n",
              "        docLink.innerHTML = docLinkHtml;\n",
              "        element.appendChild(docLink);\n",
              "      }\n",
              "    </script>\n",
              "  </div>\n",
              "\n",
              "\n",
              "<div id=\"df-65ce0188-27dd-4f1a-b06b-e9e42c2b7fea\">\n",
              "  <button class=\"colab-df-quickchart\" onclick=\"quickchart('df-65ce0188-27dd-4f1a-b06b-e9e42c2b7fea')\"\n",
              "            title=\"Suggest charts\"\n",
              "            style=\"display:none;\">\n",
              "\n",
              "<svg xmlns=\"http://www.w3.org/2000/svg\" height=\"24px\"viewBox=\"0 0 24 24\"\n",
              "     width=\"24px\">\n",
              "    <g>\n",
              "        <path d=\"M19 3H5c-1.1 0-2 .9-2 2v14c0 1.1.9 2 2 2h14c1.1 0 2-.9 2-2V5c0-1.1-.9-2-2-2zM9 17H7v-7h2v7zm4 0h-2V7h2v10zm4 0h-2v-4h2v4z\"/>\n",
              "    </g>\n",
              "</svg>\n",
              "  </button>\n",
              "\n",
              "<style>\n",
              "  .colab-df-quickchart {\n",
              "      --bg-color: #E8F0FE;\n",
              "      --fill-color: #1967D2;\n",
              "      --hover-bg-color: #E2EBFA;\n",
              "      --hover-fill-color: #174EA6;\n",
              "      --disabled-fill-color: #AAA;\n",
              "      --disabled-bg-color: #DDD;\n",
              "  }\n",
              "\n",
              "  [theme=dark] .colab-df-quickchart {\n",
              "      --bg-color: #3B4455;\n",
              "      --fill-color: #D2E3FC;\n",
              "      --hover-bg-color: #434B5C;\n",
              "      --hover-fill-color: #FFFFFF;\n",
              "      --disabled-bg-color: #3B4455;\n",
              "      --disabled-fill-color: #666;\n",
              "  }\n",
              "\n",
              "  .colab-df-quickchart {\n",
              "    background-color: var(--bg-color);\n",
              "    border: none;\n",
              "    border-radius: 50%;\n",
              "    cursor: pointer;\n",
              "    display: none;\n",
              "    fill: var(--fill-color);\n",
              "    height: 32px;\n",
              "    padding: 0;\n",
              "    width: 32px;\n",
              "  }\n",
              "\n",
              "  .colab-df-quickchart:hover {\n",
              "    background-color: var(--hover-bg-color);\n",
              "    box-shadow: 0 1px 2px rgba(60, 64, 67, 0.3), 0 1px 3px 1px rgba(60, 64, 67, 0.15);\n",
              "    fill: var(--button-hover-fill-color);\n",
              "  }\n",
              "\n",
              "  .colab-df-quickchart-complete:disabled,\n",
              "  .colab-df-quickchart-complete:disabled:hover {\n",
              "    background-color: var(--disabled-bg-color);\n",
              "    fill: var(--disabled-fill-color);\n",
              "    box-shadow: none;\n",
              "  }\n",
              "\n",
              "  .colab-df-spinner {\n",
              "    border: 2px solid var(--fill-color);\n",
              "    border-color: transparent;\n",
              "    border-bottom-color: var(--fill-color);\n",
              "    animation:\n",
              "      spin 1s steps(1) infinite;\n",
              "  }\n",
              "\n",
              "  @keyframes spin {\n",
              "    0% {\n",
              "      border-color: transparent;\n",
              "      border-bottom-color: var(--fill-color);\n",
              "      border-left-color: var(--fill-color);\n",
              "    }\n",
              "    20% {\n",
              "      border-color: transparent;\n",
              "      border-left-color: var(--fill-color);\n",
              "      border-top-color: var(--fill-color);\n",
              "    }\n",
              "    30% {\n",
              "      border-color: transparent;\n",
              "      border-left-color: var(--fill-color);\n",
              "      border-top-color: var(--fill-color);\n",
              "      border-right-color: var(--fill-color);\n",
              "    }\n",
              "    40% {\n",
              "      border-color: transparent;\n",
              "      border-right-color: var(--fill-color);\n",
              "      border-top-color: var(--fill-color);\n",
              "    }\n",
              "    60% {\n",
              "      border-color: transparent;\n",
              "      border-right-color: var(--fill-color);\n",
              "    }\n",
              "    80% {\n",
              "      border-color: transparent;\n",
              "      border-right-color: var(--fill-color);\n",
              "      border-bottom-color: var(--fill-color);\n",
              "    }\n",
              "    90% {\n",
              "      border-color: transparent;\n",
              "      border-bottom-color: var(--fill-color);\n",
              "    }\n",
              "  }\n",
              "</style>\n",
              "\n",
              "  <script>\n",
              "    async function quickchart(key) {\n",
              "      const quickchartButtonEl =\n",
              "        document.querySelector('#' + key + ' button');\n",
              "      quickchartButtonEl.disabled = true;  // To prevent multiple clicks.\n",
              "      quickchartButtonEl.classList.add('colab-df-spinner');\n",
              "      try {\n",
              "        const charts = await google.colab.kernel.invokeFunction(\n",
              "            'suggestCharts', [key], {});\n",
              "      } catch (error) {\n",
              "        console.error('Error during call to suggestCharts:', error);\n",
              "      }\n",
              "      quickchartButtonEl.classList.remove('colab-df-spinner');\n",
              "      quickchartButtonEl.classList.add('colab-df-quickchart-complete');\n",
              "    }\n",
              "    (() => {\n",
              "      let quickchartButtonEl =\n",
              "        document.querySelector('#df-65ce0188-27dd-4f1a-b06b-e9e42c2b7fea button');\n",
              "      quickchartButtonEl.style.display =\n",
              "        google.colab.kernel.accessAllowed ? 'block' : 'none';\n",
              "    })();\n",
              "  </script>\n",
              "</div>\n",
              "\n",
              "    </div>\n",
              "  </div>\n"
            ],
            "application/vnd.google.colaboratory.intrinsic+json": {
              "type": "dataframe",
              "variable_name": "fullSent",
              "summary": "{\n  \"name\": \"fullSent\",\n  \"rows\": 8529,\n  \"fields\": [\n    {\n      \"column\": \"PhraseId\",\n      \"properties\": {\n        \"dtype\": \"number\",\n        \"std\": 44268,\n        \"min\": 1,\n        \"max\": 156040,\n        \"num_unique_values\": 8529,\n        \"samples\": [\n          50818,\n          147847,\n          147568\n        ],\n        \"semantic_type\": \"\",\n        \"description\": \"\"\n      }\n    },\n    {\n      \"column\": \"SentenceId\",\n      \"properties\": {\n        \"dtype\": \"number\",\n        \"std\": 2466,\n        \"min\": 1,\n        \"max\": 8544,\n        \"num_unique_values\": 8529,\n        \"samples\": [\n          2500,\n          8045,\n          8030\n        ],\n        \"semantic_type\": \"\",\n        \"description\": \"\"\n      }\n    },\n    {\n      \"column\": \"Phrase\",\n      \"properties\": {\n        \"dtype\": \"string\",\n        \"num_unique_values\": 8529,\n        \"samples\": [\n          \"Like a Tarantino movie with heart , Alias Betty is richly detailed , deftly executed and utterly absorbing .\",\n          \"The dark and bittersweet twist feels strange as things turn nasty and tragic during the final third of the film .\",\n          \"The hard-to-predict and absolutely essential chemistry between the down-to-earth Bullock and the nonchalant Grant proves to be sensational , and everything meshes in this elegant entertainment .\"\n        ],\n        \"semantic_type\": \"\",\n        \"description\": \"\"\n      }\n    },\n    {\n      \"column\": \"Sentiment\",\n      \"properties\": {\n        \"dtype\": \"number\",\n        \"std\": 1,\n        \"min\": 0,\n        \"max\": 4,\n        \"num_unique_values\": 5,\n        \"samples\": [\n          4,\n          0,\n          3\n        ],\n        \"semantic_type\": \"\",\n        \"description\": \"\"\n      }\n    }\n  ]\n}"
            }
          },
          "metadata": {},
          "execution_count": 7
        }
      ],
      "source": [
        "\n",
        "#create df of full sentences\n",
        "fullSent= data.loc[data.groupby('SentenceId')['PhraseId'].idxmin()]\n",
        "fullSent.head(25)"
      ]
    },
    {
      "cell_type": "code",
      "execution_count": null,
      "metadata": {
        "colab": {
          "base_uri": "https://localhost:8080/",
          "height": 646
        },
        "id": "OuiBN2bsQnxi",
        "outputId": "0de9a12b-18b3-4d8e-cac1-d56d5d5bfd16"
      },
      "outputs": [
        {
          "output_type": "display_data",
          "data": {
            "text/plain": [
              "<Figure size 1200x800 with 1 Axes>"
            ],
            "image/png": "[encoded data removed]"
          },
          "metadata": {}
        }
      ],
      "source": [
        "dist = data.groupby([\"Sentiment\"]).size()\n",
        "fig, ax = plt.subplots(figsize=(12,8))\n",
        "sns.barplot(x=dist.keys(), y=dist.values);"
      ]
    },
    {
      "cell_type": "code",
      "execution_count": null,
      "metadata": {
        "colab": {
          "base_uri": "https://localhost:8080/"
        },
        "id": "Se5ooAWLQryL",
        "outputId": "88963c48-3509-40a1-b3c3-17743b30fc4b"
      },
      "outputs": [
        {
          "output_type": "stream",
          "name": "stdout",
          "text": [
            "8529\n"
          ]
        }
      ],
      "source": [
        "#number of unique sentences in the training dataset\n",
        "print (len(data.groupby('SentenceId').nunique()))"
      ]
    },
    {
      "cell_type": "code",
      "execution_count": null,
      "metadata": {
        "id": "_wNII-BmROSu"
      },
      "outputs": [],
      "source": [
        "#Releasing unwanted variables\n",
        "URL_tr = []"
      ]
    },
    {
      "cell_type": "code",
      "execution_count": null,
      "metadata": {
        "id": "icnmrtJtRSm8"
      },
      "outputs": [],
      "source": [
        "phrase = fullSent['Phrase']\n",
        "sentiment = fullSent['Sentiment']"
      ]
    },
    {
      "cell_type": "code",
      "source": [
        "#Splitting into training and testing sets\n",
        "X_train,X_test,Y_train,Y_test = train_test_split(phrase, sentiment, test_size=0.2,random_state=4)\n",
        "\n",
        "print(\"X_train before preprocessing:\", X_train)\n",
        "print(\"Y_train before preprocessing:\", Y_train)"
      ],
      "metadata": {
        "colab": {
          "base_uri": "https://localhost:8080/"
        },
        "id": "AeW7MYrZuKyq",
        "outputId": "1d4a6327-aaca-4848-a825-ee72837ce856"
      },
      "execution_count": null,
      "outputs": [
        {
          "output_type": "stream",
          "name": "stdout",
          "text": [
            "X_train before preprocessing: 103322    Visually exciting sci-fi film which suffers fr...\n",
            "32029                                          Yes , soar .\n",
            "103055    It briefly flirts with player masochism , but ...\n",
            "154689          This pathetic junk is barely an hour long .\n",
            "40811     Both Grant and Hoult carry the movie because t...\n",
            "                                ...                        \n",
            "10746     Sweet Home Alabama is n't going to win any Aca...\n",
            "113393    The film boasts dry humor and jarring shocks ,...\n",
            "16507     Even a hardened voyeur would require the patie...\n",
            "153434    Whether you like it or not is basically a matt...\n",
            "25081     The rare Imax movie that you 'll wish was long...\n",
            "Name: Phrase, Length: 6823, dtype: object\n",
            "Y_train before preprocessing: 103322    2\n",
            "32029     3\n",
            "103055    2\n",
            "154689    0\n",
            "40811     3\n",
            "         ..\n",
            "10746     3\n",
            "113393    4\n",
            "16507     0\n",
            "153434    2\n",
            "25081     3\n",
            "Name: Sentiment, Length: 6823, dtype: int64\n"
          ]
        }
      ]
    },
    {
      "cell_type": "code",
      "execution_count": null,
      "metadata": {
        "colab": {
          "base_uri": "https://localhost:8080/"
        },
        "id": "H4mF0VnQRoF5",
        "outputId": "2c308222-c9f5-4624-d0df-24faa4f25ccb"
      },
      "outputs": [
        {
          "output_type": "stream",
          "name": "stderr",
          "text": [
            "[nltk_data] Downloading package stopwords to /root/nltk_data...\n",
            "[nltk_data]   Unzipping corpora/stopwords.zip.\n"
          ]
        }
      ],
      "source": [
        "#Data Cleaning or Preprocessing\n",
        "import re\n",
        "import nltk\n",
        "nltk.download('stopwords')\n",
        "from nltk.corpus import stopwords\n",
        "from nltk.stem import PorterStemmer\n",
        "temp =[]\n",
        "snow = nltk.stem.SnowballStemmer('english')\n",
        "for sentence in phrase:\n",
        "    sentence = sentence.lower() #Lowercase Conversion\n",
        "    cleanr = re.compile('<.*?>')\n",
        "    sentence = re.sub(cleanr, ' ', sentence) #Removing HTML Tags\n",
        "    sentence = re.sub(r'[?|!|\\'|\"|#]',r'',sentence)\n",
        "    sentence = re.sub(r'[.|,|)|(|\\|/]',r' ',sentence) #Removing Punctuations\n",
        "\n",
        "    #Removing Stop Words & Stemming\n",
        "    words = [snow.stem(word) for word in sentence.split() if word not in stopwords.words('english')]\n",
        "    temp.append(words)\n",
        "\n",
        "phrase = temp"
      ]
    },
    {
      "cell_type": "code",
      "execution_count": null,
      "metadata": {
        "colab": {
          "base_uri": "https://localhost:8080/"
        },
        "id": "ynKeSwfvRsaY",
        "outputId": "c6744b1b-4f9e-40ce-b592-4b3b33e14e33"
      },
      "outputs": [
        {
          "output_type": "stream",
          "name": "stdout",
          "text": [
            "['quiet', 'introspect', 'entertain', 'independ', 'worth', 'seek']\n"
          ]
        }
      ],
      "source": [
        "print(phrase[1])"
      ]
    },
    {
      "cell_type": "code",
      "execution_count": null,
      "metadata": {
        "colab": {
          "base_uri": "https://localhost:8080/"
        },
        "id": "6EcSGyXtUUZo",
        "outputId": "548c321e-7194-4992-ddac-821c92dfc369"
      },
      "outputs": [
        {
          "output_type": "stream",
          "name": "stdout",
          "text": [
            " quiet introspect entertain independ worth seek\n"
          ]
        }
      ],
      "source": [
        "#convert list of words to sentences\n",
        "sent = []\n",
        "for row in phrase:\n",
        "    sequ = ''\n",
        "    for word in row:\n",
        "        sequ = sequ + ' ' + word\n",
        "    sent.append(sequ)\n",
        "\n",
        "phrase = sent\n",
        "print(phrase[1])"
      ]
    },
    {
      "cell_type": "code",
      "execution_count": null,
      "metadata": {
        "colab": {
          "base_uri": "https://localhost:8080/"
        },
        "id": "iKVwXHWkUWzv",
        "outputId": "0347a20b-051d-42cd-bd12-73c18c263d6d"
      },
      "outputs": [
        {
          "output_type": "stream",
          "name": "stdout",
          "text": [
            " seri escapad demonstr adag good goos also good gander occasion amus none amount much stori 1\n"
          ]
        }
      ],
      "source": [
        "print(phrase[0], sentiment[0])\n",
        "\n",
        "#Splitting into training and testing sets\n",
        "X_train,X_test,Y_train,Y_test = train_test_split(phrase, sentiment, test_size=0.2,random_state=4)"
      ]
    },
    {
      "cell_type": "code",
      "execution_count": null,
      "metadata": {
        "colab": {
          "base_uri": "https://localhost:8080/"
        },
        "id": "ojfKAXNhUajX",
        "outputId": "616245e2-b6db-42ee-c80a-93929ecac51c"
      },
      "outputs": [
        {
          "output_type": "stream",
          "name": "stdout",
          "text": [
            "(6823, 6856)\n",
            "(1706, 6856)\n"
          ]
        }
      ],
      "source": [
        "#TF-IDF Feature Extraction Method\n",
        "tfidf_vectorizer = TfidfVectorizer(min_df=5,\n",
        "                                 max_df=0.9, # reduce this to a reasonable value\n",
        "                                  analyzer='word',\n",
        "                                  strip_accents='unicode',\n",
        "                                  ngram_range=(1,3),\n",
        "                                  sublinear_tf=True,\n",
        "                                  smooth_idf=True,\n",
        "                                  use_idf=True,\n",
        "                                  stop_words=None)\n",
        "tfidf_vectorizer.fit(list(fullSent['Phrase']))\n",
        "# %%\n",
        "train_tfidf = tfidf_vectorizer.transform(X_train)\n",
        "test_tfidf = tfidf_vectorizer.transform(X_test) # changed to X_test\n",
        "print(train_tfidf.shape)\n",
        "print(test_tfidf.shape)"
      ]
    },
    {
      "cell_type": "code",
      "execution_count": null,
      "metadata": {
        "colab": {
          "base_uri": "https://localhost:8080/"
        },
        "id": "hTwqBVQSUgsW",
        "outputId": "8d0be8ab-6026-444d-aeff-235f0fcc3e92"
      },
      "outputs": [
        {
          "output_type": "stream",
          "name": "stdout",
          "text": [
            "(6823, 6856, 1)\n",
            "(1706, 6856, 1)\n",
            "(6823, 5)\n",
            "(1706, 5)\n"
          ]
        }
      ],
      "source": [
        "rX_train  = train_tfidf.toarray()\n",
        "X_train = rX_train.reshape((rX_train.shape[0],rX_train.shape[1],1))\n",
        "print(X_train.shape)\n",
        "\n",
        "rX_test  = test_tfidf.toarray()\n",
        "X_test = rX_test.reshape((rX_test.shape[0],rX_test.shape[1],1))\n",
        "print(X_test.shape)\n",
        "\n",
        "Y_train = keras.utils.to_categorical(Y_train)\n",
        "Y_test = keras.utils.to_categorical(Y_test)\n",
        "print(Y_train.shape)\n",
        "print(Y_test.shape)"
      ]
    },
    {
      "cell_type": "code",
      "execution_count": null,
      "metadata": {
        "id": "3K2gF6LjUr6o"
      },
      "outputs": [],
      "source": [
        "#Evaluation Metrics\n",
        "import tensorflow.keras.backend as K # Import tensorflow.keras.backend instead of keras.backend\n",
        "\n",
        "def recall_m(y_true,y_pred):\n",
        "  true_positives = K.sum(K.round(K.clip(y_true * y_pred, 0,1)))\n",
        "  possible_positives = K.sum(K.round(K.clip(y_true, 0,1)))\n",
        "  recall = true_positives / (possible_positives + K.epsilon())\n",
        "  return recall\n",
        "\n",
        "def precision_m(y_true, y_pred):\n",
        "  true_positives = K.sum(K.round(K.clip(y_true * y_pred, 0,1)))\n",
        "  predicted_positives = K.sum(K.round(K.clip(y_pred, 0,1)))\n",
        "  precision = true_positives / (predicted_positives + K.epsilon())\n",
        "  return precision\n",
        "\n",
        "def f1_m(y_true,y_pred):\n",
        "  precision = precision_m(y_true,y_pred)\n",
        "  recall = recall_m(y_true,y_pred)\n",
        "  return 2*((precision * recall)/(precision + recall + K.epsilon()))"
      ]
    },
    {
      "cell_type": "code",
      "source": [
        "from keras.models import Sequential\n",
        "from keras.layers import Conv1D, MaxPool1D, Dense, Dropout, Flatten, MaxPooling1D\n",
        "from keras.layers import Activation, GlobalMaxPooling1D\n",
        "from keras import optimizers\n",
        "from tensorflow.keras.layers import Embedding"
      ],
      "metadata": {
        "id": "7oF-fIn-m1mo"
      },
      "execution_count": null,
      "outputs": []
    },
    {
      "cell_type": "code",
      "source": [
        "# CNN Model\n",
        "from numpy import newaxis\n",
        "\n",
        "def baseline_cnn_model(fea_matrix, n_class, mode, compiler):\n",
        "  # create model\n",
        "  model = Sequential()\n",
        "  model.add(Conv1D(filters=64, kernel_size = (3), activation = 'relu', input_shape = (fea_matrix.shape[1], fea_matrix.shape[2])))\n",
        "  model.add(MaxPool1D(pool_size = 2))\n",
        "  model.add(Conv1D(filters=128, kernel_size = (3), activation = 'relu'))\n",
        "  model.add(MaxPool1D(pool_size = 2))\n",
        "  model.add(Flatten())\n",
        "  model.add(Activation('relu'))\n",
        "  model.add(Dense(n_class, activation = 'softmax'))\n",
        "  #model.compile(loss='binary_crossentropy', optimizer='adam', metrics=['accuracy'])\n",
        "\n",
        "  model.compile(loss='categorical_crossentropy',optimizer='rmsprop',  metrics=['acc', f1_m, precision_m, recall_m])\n",
        "  #model_ptw2v.add(Dense(1, activation='sigmoid'))\n",
        "\n",
        "  return model"
      ],
      "metadata": {
        "id": "8wsqbtkbm6KD"
      },
      "execution_count": null,
      "outputs": []
    },
    {
      "cell_type": "code",
      "source": [
        "# Tuning hyper-parameters\n",
        "import math\n",
        "\n",
        "lr = 0.01\n",
        "batch_size=64\n",
        "num_epochs=10\n",
        "decay= math.exp(-4)\n",
        "mode=\"reg\"\n",
        "n_class=5 #5\n",
        "\n",
        "adm=optimizers.Adam(learning_rate=lr,decay=decay)\n",
        "sgd=optimizers.SGD(learning_rate=lr, nesterov=True,momentum=0.7,decay=decay)\n",
        "\n",
        "#Nadam= optimizers.Nadam(learning_rate=lr, beta_1=0.9,beta_2=0.999,epsilon=math.exp(-8))\n",
        "model=baseline_cnn_model(X_train,n_class,mode,adm)"
      ],
      "metadata": {
        "colab": {
          "base_uri": "https://localhost:8080/"
        },
        "id": "PX0SYYmusrWQ",
        "outputId": "13dc300f-815b-41a0-e3c0-d6347ac8a8de"
      },
      "execution_count": null,
      "outputs": [
        {
          "output_type": "stream",
          "name": "stderr",
          "text": [
            "/usr/local/lib/python3.11/dist-packages/keras/src/optimizers/base_optimizer.py:86: UserWarning: Argument `decay` is no longer supported and will be ignored.\n",
            "  warnings.warn(\n",
            "/usr/local/lib/python3.11/dist-packages/keras/src/layers/convolutional/base_conv.py:107: UserWarning: Do not pass an `input_shape`/`input_dim` argument to a layer. When using Sequential models, prefer using an `Input(shape)` object as the first layer in the model instead.\n",
            "  super().__init__(activity_regularizer=activity_regularizer, **kwargs)\n"
          ]
        }
      ]
    },
    {
      "cell_type": "code",
      "source": [
        "# Model Training\n",
        "history=model.fit(rX_train,Y_train,batch_size=batch_size,epochs=num_epochs,verbose=1,validation_split=0.2)"
      ],
      "metadata": {
        "colab": {
          "base_uri": "https://localhost:8080/"
        },
        "id": "Wew1G8MgsucO",
        "outputId": "e73546f2-d8c6-468b-a695-92a8b0ae6b6b"
      },
      "execution_count": null,
      "outputs": [
        {
          "output_type": "stream",
          "name": "stdout",
          "text": [
            "Epoch 1/10\n",
            "\u001b[1m86/86\u001b[0m \u001b[32m━━━━━━━━━━━━━━━━━━━━\u001b[0m\u001b[37m\u001b[0m \u001b[1m182s\u001b[0m 2s/step - acc: 0.2774 - f1_m: 2.0857e-05 - loss: 1.5926 - precision_m: 6.7786e-04 - recall_m: 1.0592e-05 - val_acc: 0.3136 - val_f1_m: 0.0028 - val_loss: 1.5365 - val_precision_m: 0.0909 - val_recall_m: 0.0014\n",
            "Epoch 2/10\n",
            "\u001b[1m86/86\u001b[0m \u001b[32m━━━━━━━━━━━━━━━━━━━━\u001b[0m\u001b[37m\u001b[0m \u001b[1m190s\u001b[0m 2s/step - acc: 0.4184 - f1_m: 0.1029 - loss: 1.3998 - precision_m: 0.4865 - recall_m: 0.0603 - val_acc: 0.3348 - val_f1_m: 0.1329 - val_loss: 1.5388 - val_precision_m: 0.4245 - val_recall_m: 0.0795\n",
            "Epoch 3/10\n",
            "\u001b[1m86/86\u001b[0m \u001b[32m━━━━━━━━━━━━━━━━━━━━\u001b[0m\u001b[37m\u001b[0m \u001b[1m191s\u001b[0m 2s/step - acc: 0.4933 - f1_m: 0.3313 - loss: 1.2409 - precision_m: 0.6259 - recall_m: 0.2274 - val_acc: 0.3289 - val_f1_m: 0.1862 - val_loss: 1.5767 - val_precision_m: 0.4031 - val_recall_m: 0.1215\n",
            "Epoch 4/10\n",
            "\u001b[1m86/86\u001b[0m \u001b[32m━━━━━━━━━━━━━━━━━━━━\u001b[0m\u001b[37m\u001b[0m \u001b[1m214s\u001b[0m 2s/step - acc: 0.5239 - f1_m: 0.3886 - loss: 1.1736 - precision_m: 0.6422 - recall_m: 0.2819 - val_acc: 0.3275 - val_f1_m: 0.2065 - val_loss: 1.6073 - val_precision_m: 0.3883 - val_recall_m: 0.1414\n",
            "Epoch 5/10\n",
            "\u001b[1m86/86\u001b[0m \u001b[32m━━━━━━━━━━━━━━━━━━━━\u001b[0m\u001b[37m\u001b[0m \u001b[1m190s\u001b[0m 2s/step - acc: 0.5442 - f1_m: 0.4548 - loss: 1.1118 - precision_m: 0.6766 - recall_m: 0.3452 - val_acc: 0.3172 - val_f1_m: 0.2281 - val_loss: 1.6297 - val_precision_m: 0.3917 - val_recall_m: 0.1613\n",
            "Epoch 6/10\n",
            "\u001b[1m86/86\u001b[0m \u001b[32m━━━━━━━━━━━━━━━━━━━━\u001b[0m\u001b[37m\u001b[0m \u001b[1m215s\u001b[0m 2s/step - acc: 0.5570 - f1_m: 0.4716 - loss: 1.1041 - precision_m: 0.6809 - recall_m: 0.3634 - val_acc: 0.3231 - val_f1_m: 0.2476 - val_loss: 1.7095 - val_precision_m: 0.3700 - val_recall_m: 0.1869\n",
            "Epoch 7/10\n",
            "\u001b[1m86/86\u001b[0m \u001b[32m━━━━━━━━━━━━━━━━━━━━\u001b[0m\u001b[37m\u001b[0m \u001b[1m202s\u001b[0m 2s/step - acc: 0.5738 - f1_m: 0.5052 - loss: 1.0670 - precision_m: 0.6896 - recall_m: 0.4007 - val_acc: 0.3348 - val_f1_m: 0.2490 - val_loss: 1.7135 - val_precision_m: 0.3729 - val_recall_m: 0.1876\n",
            "Epoch 8/10\n",
            "\u001b[1m86/86\u001b[0m \u001b[32m━━━━━━━━━━━━━━━━━━━━\u001b[0m\u001b[37m\u001b[0m \u001b[1m199s\u001b[0m 2s/step - acc: 0.5891 - f1_m: 0.5349 - loss: 1.0196 - precision_m: 0.7126 - recall_m: 0.4303 - val_acc: 0.3297 - val_f1_m: 0.2488 - val_loss: 1.7131 - val_precision_m: 0.3685 - val_recall_m: 0.1883\n",
            "Epoch 9/10\n",
            "\u001b[1m86/86\u001b[0m \u001b[32m━━━━━━━━━━━━━━━━━━━━\u001b[0m\u001b[37m\u001b[0m \u001b[1m202s\u001b[0m 2s/step - acc: 0.5961 - f1_m: 0.5342 - loss: 1.0124 - precision_m: 0.7103 - recall_m: 0.4298 - val_acc: 0.3201 - val_f1_m: 0.2585 - val_loss: 1.7910 - val_precision_m: 0.3594 - val_recall_m: 0.2025\n",
            "Epoch 10/10\n",
            "\u001b[1m86/86\u001b[0m \u001b[32m━━━━━━━━━━━━━━━━━━━━\u001b[0m\u001b[37m\u001b[0m \u001b[1m204s\u001b[0m 2s/step - acc: 0.6031 - f1_m: 0.5622 - loss: 0.9933 - precision_m: 0.7163 - recall_m: 0.4652 - val_acc: 0.3143 - val_f1_m: 0.2529 - val_loss: 1.8202 - val_precision_m: 0.3532 - val_recall_m: 0.1975\n"
          ]
        }
      ]
    },
    {
      "cell_type": "code",
      "source": [
        "preds = model.predict_classes(X_test, verbose=0)"
      ],
      "metadata": {
        "id": "yuuABOG9tUef"
      },
      "execution_count": null,
      "outputs": []
    },
    {
      "cell_type": "code",
      "source": [
        "#Plotting Graphs\n",
        "import matplotlib.pyplot as plt\n",
        "\n",
        "plt.plot(history.history['acc'])\n",
        "plt.plot(history.history['val_acc'])\n",
        "\n",
        "plt.title('Model Accuracy')\n",
        "plt.ylabel('Accuracy')\n",
        "plt.xlabel('Epoch')\n",
        "plt.legend(['train','test'], loc = 'upper left')\n",
        "plt.show()\n",
        "\n",
        "plt.plot(history.history['loss'])\n",
        "plt.plot(history.history['val_loss'])\n",
        "\n",
        "plt.title('Model loss')\n",
        "plt.ylabel('loss')\n",
        "plt.xlabel('epoch')\n",
        "plt.legend(['train','test'], loc = 'upper left')\n",
        "plt.show()\n",
        "\n",
        "plt.plot(history.history['f1_m'])\n",
        "plt.plot(history.history['val_f1_m'])\n",
        "\n",
        "plt.title('Model F1 Score')\n",
        "plt.ylabel('F1 Score')\n",
        "plt.xlabel('Epoch')\n",
        "plt.legend(['train','test'], loc = 'upper left')\n",
        "plt.show()\n",
        "\n",
        "plt.plot(history.history['precision_m'])\n",
        "plt.plot(history.history['val_precision_m'])\n",
        "\n",
        "plt.title('Model Precision')\n",
        "plt.ylabel('Precision')\n",
        "plt.xlabel('Epoch')\n",
        "plt.legend(['train','test'], loc = 'upper left')\n",
        "plt.show()\n",
        "\n",
        "plt.plot(history.history['recall_m'])\n",
        "plt.plot(history.history['val_recall_m'])\n",
        "\n",
        "plt.title('Model Recall')\n",
        "plt.ylabel('Recall')\n",
        "plt.xlabel('Epoch')\n",
        "plt.legend(['train','test'], loc = 'upper left')\n",
        "plt.show()"
      ],
      "metadata": {
        "id": "BjPYY_P6afKF"
      },
      "execution_count": null,
      "outputs": []
    },
    {
      "cell_type": "code",
      "source": [
        "\n",
        "from sklearn.metrics import classification_report\n",
        "\n",
        "print(classification_report(X_train, Y_test))"
      ],
      "metadata": {
        "id": "fUrlaLHrbIcU"
      },
      "execution_count": null,
      "outputs": []
    }
  ],
  "metadata": {
    "colab": {
      "provenance": []
    },
    "kernelspec": {
      "display_name": "Python 3",
      "name": "python3"
    },
    "language_info": {
      "name": "python"
    }
  },
  "nbformat": 4,
  "nbformat_minor": 0
}