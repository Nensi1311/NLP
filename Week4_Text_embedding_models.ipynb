{
  "nbformat": 4,
  "nbformat_minor": 0,
  "metadata": {
    "colab": {
      "provenance": []
    },
    "kernelspec": {
      "name": "python3",
      "display_name": "Python 3"
    },
    "language_info": {
      "name": "python"
    }
  },
  "cells": [
    {
      "cell_type": "code",
      "execution_count": null,
      "metadata": {
        "id": "OWdfQyb2xuGO"
      },
      "outputs": [],
      "source": [
        "from gensim.models import Word2Vec, FastText  # Import necessary libraries\n",
        "from gensim.test.utils import common_texts\n",
        "from gensim.corpora import Dictionary\n",
        "import numpy as np"
      ]
    },
    {
      "cell_type": "code",
      "source": [
        "sentences = [\n",
        "    \"The quick brown fox jumps over the lazy dog\",\n",
        "    \"A dog is a man's best friend\",\n",
        "    \"Cats are very independent animals\",\n",
        "]"
      ],
      "metadata": {
        "id": "KTEKlcQqx1Ed"
      },
      "execution_count": null,
      "outputs": []
    },
    {
      "cell_type": "code",
      "source": [
        "# Preprocessing - Tokenization and lowercase\n",
        "tokenized_sentences = [s.lower().split() for s in sentences]\n",
        "print(tokenized_sentences)"
      ],
      "metadata": {
        "colab": {
          "base_uri": "https://localhost:8080/"
        },
        "id": "tw8o47yqx4VX",
        "outputId": "6f5f2988-131e-43b9-f8c3-dcf89d71be08"
      },
      "execution_count": null,
      "outputs": [
        {
          "output_type": "stream",
          "name": "stdout",
          "text": [
            "[['the', 'quick', 'brown', 'fox', 'jumps', 'over', 'the', 'lazy', 'dog'], ['a', 'dog', 'is', 'a', \"man's\", 'best', 'friend'], ['cats', 'are', 'very', 'independent', 'animals']]\n"
          ]
        }
      ]
    },
    {
      "cell_type": "markdown",
      "source": [
        "# 1. Word2Vec"
      ],
      "metadata": {
        "id": "dDXVj9iw9oib"
      }
    },
    {
      "cell_type": "code",
      "source": [
        "\n",
        "#  - Train a Word2Vec model\n",
        "model_w2v = Word2Vec(tokenized_sentences, vector_size=100, window=5, min_count=1, epochs=10)"
      ],
      "metadata": {
        "id": "rSRlK0aMx6tS"
      },
      "execution_count": null,
      "outputs": []
    },
    {
      "cell_type": "code",
      "source": [
        "# Accessing word embedding\n",
        "print(model_w2v.wv['dog'])  # Returns the vector representation of the word \"dog\""
      ],
      "metadata": {
        "colab": {
          "base_uri": "https://localhost:8080/"
        },
        "id": "dTMFRKUhyGl5",
        "outputId": "128eb911-b0c9-4d49-977c-ed5554bb8681"
      },
      "execution_count": null,
      "outputs": [
        {
          "output_type": "stream",
          "name": "stdout",
          "text": [
            "[-8.6200209e-03  3.6631965e-03  5.1971395e-03  5.7453541e-03\n",
            "  7.4662189e-03 -6.1680567e-03  1.1054849e-03  6.0537793e-03\n",
            " -2.8411085e-03 -6.1727408e-03 -4.1228149e-04 -8.3780782e-03\n",
            " -5.6057060e-03  7.1123792e-03  3.3436734e-03  7.2191376e-03\n",
            "  6.8010385e-03  7.5391768e-03 -3.7852193e-03 -5.6621403e-04\n",
            "  2.3448556e-03 -4.5156591e-03  8.3898818e-03 -9.8585701e-03\n",
            "  6.7604808e-03  2.9183186e-03 -4.9386271e-03  4.4066231e-03\n",
            " -1.7414397e-03  6.7101410e-03  9.9608907e-03 -4.3623983e-03\n",
            " -5.9841119e-04 -5.6895888e-03  3.8417238e-03  2.7892499e-03\n",
            "  6.8909354e-03  6.0892156e-03  9.5307864e-03  9.2769349e-03\n",
            "  7.9081804e-03 -6.9929375e-03 -9.1587650e-03 -3.5457744e-04\n",
            " -3.0984106e-03  7.9003088e-03  5.9339805e-03 -1.5590396e-03\n",
            "  1.5083445e-03  1.7855077e-03  7.8167384e-03 -9.5205437e-03\n",
            " -2.0108896e-04  3.4725121e-03 -9.4467832e-04  8.3815288e-03\n",
            "  9.0126637e-03  6.5334882e-03 -7.0520287e-04  7.7148648e-03\n",
            " -8.5372468e-03  3.1997145e-03 -4.6363613e-03 -5.0893268e-03\n",
            "  3.5912457e-03  5.3712372e-03  7.7676140e-03 -5.7629049e-03\n",
            "  7.4284207e-03  6.6278894e-03 -3.7128979e-03 -8.7411189e-03\n",
            "  5.4433164e-03  6.5069636e-03 -7.8132149e-04 -6.7086061e-03\n",
            " -7.0816572e-03 -2.5002344e-03  5.1388829e-03 -3.6669441e-03\n",
            " -9.3781604e-03  3.8261260e-03  4.8780888e-03 -6.4213979e-03\n",
            "  1.2015650e-03 -2.0754228e-03  2.7690918e-05 -9.8926723e-03\n",
            "  2.6939157e-03 -4.7441260e-03  1.0851002e-03 -1.5763108e-03\n",
            "  2.1928539e-03 -7.8900754e-03 -2.7195571e-03  2.6684655e-03\n",
            "  5.3574764e-03 -2.3865744e-03 -9.5036719e-03  4.5148032e-03]\n"
          ]
        }
      ]
    },
    {
      "cell_type": "markdown",
      "source": [
        "# ***2. GloVe (using pre-trained GloVe embeddings)***\n",
        "\n",
        "\n"
      ],
      "metadata": {
        "id": "UpZEEAX99tPy"
      }
    },
    {
      "cell_type": "code",
      "source": [
        "#\n",
        "#  Load pre-defined Glove embeddings file\n",
        "\n",
        "import numpy as np\n",
        "\n",
        "def load_glove_embeddings(filepath):\n",
        "    word_index = {}\n",
        "    embedding_matrix = []\n",
        "    with open(filepath, 'r', encoding='utf-8') as f:\n",
        "        for line in f:\n",
        "            try:  # Add a try-except block\n",
        "                values = line.strip().split()  # Strip whitespace from line\n",
        "                word = values[0]\n",
        "                vector = np.asarray(values[1:], dtype='float32')\n",
        "                # Check if the vector has the expected size (100 in this case)\n",
        "                if vector.shape[0] == 100:  # Assuming 100-dimensional embeddings\n",
        "                    word_index[word] = len(word_index)\n",
        "                    embedding_matrix.append(vector)\n",
        "                else:\n",
        "                    print(f\"Skipping line due to incorrect vector size: {line.strip()}\")\n",
        "            except ValueError:  # Handle lines causing errors\n",
        "                print(f\"Skipping line: {line.strip()}\")  # Print the skipped line\n",
        "                continue\n",
        "    return np.array(embedding_matrix), word_index\n"
      ],
      "metadata": {
        "id": "PjQjMkbbyKXJ"
      },
      "execution_count": null,
      "outputs": []
    },
    {
      "cell_type": "code",
      "source": [
        "# Load GloVe embeddings\n",
        "glove_embeddings, glove_word_index = load_glove_embeddings('/content/glove.6B.100d.txt')"
      ],
      "metadata": {
        "colab": {
          "base_uri": "https://localhost:8080/"
        },
        "id": "2-9R7R1sye1B",
        "outputId": "fff82fd7-5e45-483b-ec02-dbf0c59fc6e4"
      },
      "execution_count": null,
      "outputs": [
        {
          "output_type": "stream",
          "name": "stdout",
          "text": [
            "Skipping line due to incorrect vector size: wallan 0.093209 -0.49072 -0.14923 0.62567 -0.22452 -0.12542 0.090346 -0.13959 0.70497 -0.19994 -0.030796 -0.19368 0.16187 0.43408 -0.33708 0.36289 -0.091649 -0.19885 0.29823 -0.\n"
          ]
        }
      ]
    },
    {
      "cell_type": "code",
      "source": [
        "# Accessing word embedding using GloVe\n",
        "word = 'cat'\n",
        "if word in glove_word_index:\n",
        "    embedding = glove_embeddings[glove_word_index[word]]\n",
        "    print(embedding)"
      ],
      "metadata": {
        "colab": {
          "base_uri": "https://localhost:8080/"
        },
        "id": "ctYBxwckyjAa",
        "outputId": "eeeb7feb-1326-4a46-a6e9-a1993473bf61"
      },
      "execution_count": null,
      "outputs": [
        {
          "output_type": "stream",
          "name": "stdout",
          "text": [
            "[ 0.23088    0.28283    0.6318    -0.59411   -0.58599    0.63255\n",
            "  0.24402   -0.14108    0.060815  -0.7898    -0.29102    0.14287\n",
            "  0.72274    0.20428    0.1407     0.98757    0.52533    0.097456\n",
            "  0.8822     0.51221    0.40204    0.21169   -0.013109  -0.71616\n",
            "  0.55387    1.1452    -0.88044   -0.50216   -0.22814    0.023885\n",
            "  0.1072     0.083739   0.55015    0.58479    0.75816    0.45706\n",
            " -0.28001    0.25225    0.68965   -0.60972    0.19578    0.044209\n",
            " -0.31136   -0.68826   -0.22721    0.46185   -0.77162    0.10208\n",
            "  0.55636    0.067417  -0.57207    0.23735    0.4717     0.82765\n",
            " -0.29263   -1.3422    -0.099277   0.28139    0.41604    0.10583\n",
            "  0.62203    0.89496   -0.23446    0.51349    0.99379    1.1846\n",
            " -0.16364    0.20653    0.73854    0.24059   -0.96473    0.13481\n",
            " -0.0072484  0.33016   -0.12365    0.27191   -0.40951    0.021909\n",
            " -0.6069     0.40755    0.19566   -0.41802    0.18636   -0.032652\n",
            " -0.78571   -0.13847    0.044007  -0.084423   0.04911    0.24104\n",
            "  0.45273   -0.18682    0.46182    0.089068  -0.18185   -0.01523\n",
            " -0.7368    -0.14532    0.15104   -0.71493  ]\n"
          ]
        }
      ]
    },
    {
      "cell_type": "markdown",
      "source": [
        "# 3. *FastText*"
      ],
      "metadata": {
        "id": "WRXRmyRs93Uw"
      }
    },
    {
      "cell_type": "code",
      "source": [
        "#  - Train a FastText model\n",
        "model_ft = FastText(tokenized_sentences, vector_size=100, window=5, min_count=1, epochs=10)"
      ],
      "metadata": {
        "id": "JSrc5pY59a73"
      },
      "execution_count": null,
      "outputs": []
    },
    {
      "cell_type": "code",
      "source": [
        "# Accessing word embedding\n",
        "print(model_ft.wv['cat'])"
      ],
      "metadata": {
        "colab": {
          "base_uri": "https://localhost:8080/"
        },
        "id": "TX7mJjBg9h9_",
        "outputId": "fa9b53c1-c15d-4451-f1e6-abb1b6407fbd"
      },
      "execution_count": null,
      "outputs": [
        {
          "output_type": "stream",
          "name": "stdout",
          "text": [
            "[-2.4042286e-03 -1.1288075e-03 -1.9931134e-03  2.2633136e-03\n",
            " -8.1443664e-04 -2.3870046e-04  8.6884614e-04  3.7295502e-03\n",
            "  2.5860614e-03  4.5312271e-03  1.3753325e-03 -2.4032446e-03\n",
            " -2.7827274e-03  8.4900687e-04  1.4547015e-03  2.2072273e-03\n",
            "  1.0753984e-03  7.7017001e-04 -1.4877118e-03  7.0436561e-04\n",
            " -2.5166303e-03  4.4705253e-03 -2.1713227e-03  8.8416442e-04\n",
            " -8.7026396e-04 -4.1374941e-03 -4.5416122e-03 -1.7578892e-03\n",
            " -9.2180133e-05  1.2925343e-03 -2.5069705e-04  5.2647670e-03\n",
            "  9.5469621e-04  5.2611716e-03  1.3251301e-03 -2.0645580e-03\n",
            " -1.0489278e-03 -1.0506148e-03  5.7524553e-04 -3.2048572e-03\n",
            " -5.8846618e-04 -4.4999178e-03 -3.8658574e-03  1.3450285e-03\n",
            " -6.6365669e-03 -2.5845070e-03 -3.3100648e-04  3.3270011e-03\n",
            " -4.2480081e-03 -9.0033055e-04 -1.2038100e-03 -3.8191844e-03\n",
            "  2.0313845e-03 -3.4448877e-04 -1.9507406e-04  3.3107018e-03\n",
            " -5.3424196e-04  3.3445985e-03  2.5182951e-03 -3.9758659e-03\n",
            "  6.9797249e-04  1.0787561e-03 -2.2224763e-03  1.5449071e-03\n",
            "  5.1351567e-03  2.3428651e-03 -1.5992834e-04  1.9375452e-04\n",
            "  2.5242809e-03  8.3609857e-04 -1.6382061e-03 -2.3873711e-03\n",
            " -1.2907423e-03 -3.6782094e-03 -1.5344882e-03  3.4480789e-04\n",
            " -3.4792174e-03  1.9490678e-03  7.3871651e-04  2.6808826e-03\n",
            " -1.8978204e-03  8.2285167e-04 -5.6903362e-03  5.6337862e-04\n",
            " -7.9917176e-05 -4.1573789e-04  1.7004960e-03 -3.8727268e-03\n",
            " -5.7358365e-04 -3.8930548e-03 -1.7698797e-03  1.1861230e-03\n",
            "  4.2678709e-03  3.4470547e-03 -4.4763987e-03 -2.8749518e-03\n",
            "  4.2074400e-05  1.0910889e-03  4.0270290e-03  2.8250504e-03]\n"
          ]
        }
      ]
    },
    {
      "cell_type": "markdown",
      "source": [
        "## 4. Bag-of-Words"
      ],
      "metadata": {
        "id": "Smc8N877-Zdx"
      }
    },
    {
      "cell_type": "code",
      "source": [
        "import pandas as pd\n",
        "import numpy as np\n",
        "import collections\n",
        "import re"
      ],
      "metadata": {
        "id": "4L_H5nhy9ixh"
      },
      "execution_count": null,
      "outputs": []
    },
    {
      "cell_type": "code",
      "source": [
        "doc1 = 'Game of Thrones is an amazing tv series!'\n",
        "doc2 = 'Game of Thrones is the best tv series!'\n",
        "doc3 = 'Game of Thrones is so great'"
      ],
      "metadata": {
        "id": "UEbuLYOE-jjO"
      },
      "execution_count": null,
      "outputs": []
    },
    {
      "cell_type": "code",
      "source": [
        "l_doc1 = re.sub(r\"[^a-zA-Z0-9]\", \" \", doc1.lower()).split()\n",
        "l_doc2 = re.sub(r\"[^a-zA-Z0-9]\", \" \", doc2.lower()).split()\n",
        "l_doc3 = re.sub(r\"[^a-zA-Z0-9]\", \" \", doc3.lower()).split()"
      ],
      "metadata": {
        "id": "N_UV-wp--lx4"
      },
      "execution_count": null,
      "outputs": []
    },
    {
      "cell_type": "code",
      "source": [
        "wordset = set(l_doc1).union(set(l_doc2)).union(set(l_doc3))"
      ],
      "metadata": {
        "id": "wz5TqjR5_CEw"
      },
      "execution_count": null,
      "outputs": []
    },
    {
      "cell_type": "code",
      "source": [
        "def calculateBOW(wordset,l_doc):\n",
        "  tf_diz = dict.fromkeys(wordset,0)\n",
        "  for word in l_doc:\n",
        "      tf_diz[word]=l_doc.count(word)\n",
        "  return tf_diz"
      ],
      "metadata": {
        "id": "hlzi86gB-nt0"
      },
      "execution_count": null,
      "outputs": []
    },
    {
      "cell_type": "code",
      "source": [
        "bow1 = calculateBOW(wordset,l_doc1)\n",
        "bow2 = calculateBOW(wordset,l_doc2)\n",
        "bow3 = calculateBOW(wordset,l_doc3)\n",
        "df_bow = pd.DataFrame([bow1,bow2,bow3])\n",
        "df_bow.head()"
      ],
      "metadata": {
        "colab": {
          "base_uri": "https://localhost:8080/",
          "height": 143
        },
        "id": "hjjE1M99-tIg",
        "outputId": "c3a76253-1a24-4362-90d8-eec0f56f5881"
      },
      "execution_count": null,
      "outputs": [
        {
          "output_type": "execute_result",
          "data": {
            "text/plain": [
              "   game  is  the  great  thrones  amazing  best  tv  series  of  so  an\n",
              "0     1   1    0      0        1        1     0   1       1   1   0   1\n",
              "1     1   1    1      0        1        0     1   1       1   1   0   0\n",
              "2     1   1    0      1        1        0     0   0       0   1   1   0"
            ],
            "text/html": [
              "\n",
              "  <div id=\"df-5a8e8da3-468f-439f-bdc2-6786539fa925\" class=\"colab-df-container\">\n",
              "    <div>\n",
              "<style scoped>\n",
              "    .dataframe tbody tr th:only-of-type {\n",
              "        vertical-align: middle;\n",
              "    }\n",
              "\n",
              "    .dataframe tbody tr th {\n",
              "        vertical-align: top;\n",
              "    }\n",
              "\n",
              "    .dataframe thead th {\n",
              "        text-align: right;\n",
              "    }\n",
              "</style>\n",
              "<table border=\"1\" class=\"dataframe\">\n",
              "  <thead>\n",
              "    <tr style=\"text-align: right;\">\n",
              "      <th></th>\n",
              "      <th>game</th>\n",
              "      <th>is</th>\n",
              "      <th>the</th>\n",
              "      <th>great</th>\n",
              "      <th>thrones</th>\n",
              "      <th>amazing</th>\n",
              "      <th>best</th>\n",
              "      <th>tv</th>\n",
              "      <th>series</th>\n",
              "      <th>of</th>\n",
              "      <th>so</th>\n",
              "      <th>an</th>\n",
              "    </tr>\n",
              "  </thead>\n",
              "  <tbody>\n",
              "    <tr>\n",
              "      <th>0</th>\n",
              "      <td>1</td>\n",
              "      <td>1</td>\n",
              "      <td>0</td>\n",
              "      <td>0</td>\n",
              "      <td>1</td>\n",
              "      <td>1</td>\n",
              "      <td>0</td>\n",
              "      <td>1</td>\n",
              "      <td>1</td>\n",
              "      <td>1</td>\n",
              "      <td>0</td>\n",
              "      <td>1</td>\n",
              "    </tr>\n",
              "    <tr>\n",
              "      <th>1</th>\n",
              "      <td>1</td>\n",
              "      <td>1</td>\n",
              "      <td>1</td>\n",
              "      <td>0</td>\n",
              "      <td>1</td>\n",
              "      <td>0</td>\n",
              "      <td>1</td>\n",
              "      <td>1</td>\n",
              "      <td>1</td>\n",
              "      <td>1</td>\n",
              "      <td>0</td>\n",
              "      <td>0</td>\n",
              "    </tr>\n",
              "    <tr>\n",
              "      <th>2</th>\n",
              "      <td>1</td>\n",
              "      <td>1</td>\n",
              "      <td>0</td>\n",
              "      <td>1</td>\n",
              "      <td>1</td>\n",
              "      <td>0</td>\n",
              "      <td>0</td>\n",
              "      <td>0</td>\n",
              "      <td>0</td>\n",
              "      <td>1</td>\n",
              "      <td>1</td>\n",
              "      <td>0</td>\n",
              "    </tr>\n",
              "  </tbody>\n",
              "</table>\n",
              "</div>\n",
              "    <div class=\"colab-df-buttons\">\n",
              "\n",
              "  <div class=\"colab-df-container\">\n",
              "    <button class=\"colab-df-convert\" onclick=\"convertToInteractive('df-5a8e8da3-468f-439f-bdc2-6786539fa925')\"\n",
              "            title=\"Convert this dataframe to an interactive table.\"\n",
              "            style=\"display:none;\">\n",
              "\n",
              "  <svg xmlns=\"http://www.w3.org/2000/svg\" height=\"24px\" viewBox=\"0 -960 960 960\">\n",
              "    <path d=\"M120-120v-720h720v720H120Zm60-500h600v-160H180v160Zm220 220h160v-160H400v160Zm0 220h160v-160H400v160ZM180-400h160v-160H180v160Zm440 0h160v-160H620v160ZM180-180h160v-160H180v160Zm440 0h160v-160H620v160Z\"/>\n",
              "  </svg>\n",
              "    </button>\n",
              "\n",
              "  <style>\n",
              "    .colab-df-container {\n",
              "      display:flex;\n",
              "      gap: 12px;\n",
              "    }\n",
              "\n",
              "    .colab-df-convert {\n",
              "      background-color: #E8F0FE;\n",
              "      border: none;\n",
              "      border-radius: 50%;\n",
              "      cursor: pointer;\n",
              "      display: none;\n",
              "      fill: #1967D2;\n",
              "      height: 32px;\n",
              "      padding: 0 0 0 0;\n",
              "      width: 32px;\n",
              "    }\n",
              "\n",
              "    .colab-df-convert:hover {\n",
              "      background-color: #E2EBFA;\n",
              "      box-shadow: 0px 1px 2px rgba(60, 64, 67, 0.3), 0px 1px 3px 1px rgba(60, 64, 67, 0.15);\n",
              "      fill: #174EA6;\n",
              "    }\n",
              "\n",
              "    .colab-df-buttons div {\n",
              "      margin-bottom: 4px;\n",
              "    }\n",
              "\n",
              "    [theme=dark] .colab-df-convert {\n",
              "      background-color: #3B4455;\n",
              "      fill: #D2E3FC;\n",
              "    }\n",
              "\n",
              "    [theme=dark] .colab-df-convert:hover {\n",
              "      background-color: #434B5C;\n",
              "      box-shadow: 0px 1px 3px 1px rgba(0, 0, 0, 0.15);\n",
              "      filter: drop-shadow(0px 1px 2px rgba(0, 0, 0, 0.3));\n",
              "      fill: #FFFFFF;\n",
              "    }\n",
              "  </style>\n",
              "\n",
              "    <script>\n",
              "      const buttonEl =\n",
              "        document.querySelector('#df-5a8e8da3-468f-439f-bdc2-6786539fa925 button.colab-df-convert');\n",
              "      buttonEl.style.display =\n",
              "        google.colab.kernel.accessAllowed ? 'block' : 'none';\n",
              "\n",
              "      async function convertToInteractive(key) {\n",
              "        const element = document.querySelector('#df-5a8e8da3-468f-439f-bdc2-6786539fa925');\n",
              "        const dataTable =\n",
              "          await google.colab.kernel.invokeFunction('convertToInteractive',\n",
              "                                                    [key], {});\n",
              "        if (!dataTable) return;\n",
              "\n",
              "        const docLinkHtml = 'Like what you see? Visit the ' +\n",
              "          '<a target=\"_blank\" href=https://colab.research.google.com/notebooks/data_table.ipynb>data table notebook</a>'\n",
              "          + ' to learn more about interactive tables.';\n",
              "        element.innerHTML = '';\n",
              "        dataTable['output_type'] = 'display_data';\n",
              "        await google.colab.output.renderOutput(dataTable, element);\n",
              "        const docLink = document.createElement('div');\n",
              "        docLink.innerHTML = docLinkHtml;\n",
              "        element.appendChild(docLink);\n",
              "      }\n",
              "    </script>\n",
              "  </div>\n",
              "\n",
              "\n",
              "<div id=\"df-569e7cde-3b46-4539-93c7-4451fb9136cb\">\n",
              "  <button class=\"colab-df-quickchart\" onclick=\"quickchart('df-569e7cde-3b46-4539-93c7-4451fb9136cb')\"\n",
              "            title=\"Suggest charts\"\n",
              "            style=\"display:none;\">\n",
              "\n",
              "<svg xmlns=\"http://www.w3.org/2000/svg\" height=\"24px\"viewBox=\"0 0 24 24\"\n",
              "     width=\"24px\">\n",
              "    <g>\n",
              "        <path d=\"M19 3H5c-1.1 0-2 .9-2 2v14c0 1.1.9 2 2 2h14c1.1 0 2-.9 2-2V5c0-1.1-.9-2-2-2zM9 17H7v-7h2v7zm4 0h-2V7h2v10zm4 0h-2v-4h2v4z\"/>\n",
              "    </g>\n",
              "</svg>\n",
              "  </button>\n",
              "\n",
              "<style>\n",
              "  .colab-df-quickchart {\n",
              "      --bg-color: #E8F0FE;\n",
              "      --fill-color: #1967D2;\n",
              "      --hover-bg-color: #E2EBFA;\n",
              "      --hover-fill-color: #174EA6;\n",
              "      --disabled-fill-color: #AAA;\n",
              "      --disabled-bg-color: #DDD;\n",
              "  }\n",
              "\n",
              "  [theme=dark] .colab-df-quickchart {\n",
              "      --bg-color: #3B4455;\n",
              "      --fill-color: #D2E3FC;\n",
              "      --hover-bg-color: #434B5C;\n",
              "      --hover-fill-color: #FFFFFF;\n",
              "      --disabled-bg-color: #3B4455;\n",
              "      --disabled-fill-color: #666;\n",
              "  }\n",
              "\n",
              "  .colab-df-quickchart {\n",
              "    background-color: var(--bg-color);\n",
              "    border: none;\n",
              "    border-radius: 50%;\n",
              "    cursor: pointer;\n",
              "    display: none;\n",
              "    fill: var(--fill-color);\n",
              "    height: 32px;\n",
              "    padding: 0;\n",
              "    width: 32px;\n",
              "  }\n",
              "\n",
              "  .colab-df-quickchart:hover {\n",
              "    background-color: var(--hover-bg-color);\n",
              "    box-shadow: 0 1px 2px rgba(60, 64, 67, 0.3), 0 1px 3px 1px rgba(60, 64, 67, 0.15);\n",
              "    fill: var(--button-hover-fill-color);\n",
              "  }\n",
              "\n",
              "  .colab-df-quickchart-complete:disabled,\n",
              "  .colab-df-quickchart-complete:disabled:hover {\n",
              "    background-color: var(--disabled-bg-color);\n",
              "    fill: var(--disabled-fill-color);\n",
              "    box-shadow: none;\n",
              "  }\n",
              "\n",
              "  .colab-df-spinner {\n",
              "    border: 2px solid var(--fill-color);\n",
              "    border-color: transparent;\n",
              "    border-bottom-color: var(--fill-color);\n",
              "    animation:\n",
              "      spin 1s steps(1) infinite;\n",
              "  }\n",
              "\n",
              "  @keyframes spin {\n",
              "    0% {\n",
              "      border-color: transparent;\n",
              "      border-bottom-color: var(--fill-color);\n",
              "      border-left-color: var(--fill-color);\n",
              "    }\n",
              "    20% {\n",
              "      border-color: transparent;\n",
              "      border-left-color: var(--fill-color);\n",
              "      border-top-color: var(--fill-color);\n",
              "    }\n",
              "    30% {\n",
              "      border-color: transparent;\n",
              "      border-left-color: var(--fill-color);\n",
              "      border-top-color: var(--fill-color);\n",
              "      border-right-color: var(--fill-color);\n",
              "    }\n",
              "    40% {\n",
              "      border-color: transparent;\n",
              "      border-right-color: var(--fill-color);\n",
              "      border-top-color: var(--fill-color);\n",
              "    }\n",
              "    60% {\n",
              "      border-color: transparent;\n",
              "      border-right-color: var(--fill-color);\n",
              "    }\n",
              "    80% {\n",
              "      border-color: transparent;\n",
              "      border-right-color: var(--fill-color);\n",
              "      border-bottom-color: var(--fill-color);\n",
              "    }\n",
              "    90% {\n",
              "      border-color: transparent;\n",
              "      border-bottom-color: var(--fill-color);\n",
              "    }\n",
              "  }\n",
              "</style>\n",
              "\n",
              "  <script>\n",
              "    async function quickchart(key) {\n",
              "      const quickchartButtonEl =\n",
              "        document.querySelector('#' + key + ' button');\n",
              "      quickchartButtonEl.disabled = true;  // To prevent multiple clicks.\n",
              "      quickchartButtonEl.classList.add('colab-df-spinner');\n",
              "      try {\n",
              "        const charts = await google.colab.kernel.invokeFunction(\n",
              "            'suggestCharts', [key], {});\n",
              "      } catch (error) {\n",
              "        console.error('Error during call to suggestCharts:', error);\n",
              "      }\n",
              "      quickchartButtonEl.classList.remove('colab-df-spinner');\n",
              "      quickchartButtonEl.classList.add('colab-df-quickchart-complete');\n",
              "    }\n",
              "    (() => {\n",
              "      let quickchartButtonEl =\n",
              "        document.querySelector('#df-569e7cde-3b46-4539-93c7-4451fb9136cb button');\n",
              "      quickchartButtonEl.style.display =\n",
              "        google.colab.kernel.accessAllowed ? 'block' : 'none';\n",
              "    })();\n",
              "  </script>\n",
              "</div>\n",
              "\n",
              "    </div>\n",
              "  </div>\n"
            ],
            "application/vnd.google.colaboratory.intrinsic+json": {
              "type": "dataframe",
              "variable_name": "df_bow",
              "summary": "{\n  \"name\": \"df_bow\",\n  \"rows\": 3,\n  \"fields\": [\n    {\n      \"column\": \"game\",\n      \"properties\": {\n        \"dtype\": \"number\",\n        \"std\": 0,\n        \"min\": 1,\n        \"max\": 1,\n        \"num_unique_values\": 1,\n        \"samples\": [\n          1\n        ],\n        \"semantic_type\": \"\",\n        \"description\": \"\"\n      }\n    },\n    {\n      \"column\": \"is\",\n      \"properties\": {\n        \"dtype\": \"number\",\n        \"std\": 0,\n        \"min\": 1,\n        \"max\": 1,\n        \"num_unique_values\": 1,\n        \"samples\": [\n          1\n        ],\n        \"semantic_type\": \"\",\n        \"description\": \"\"\n      }\n    },\n    {\n      \"column\": \"the\",\n      \"properties\": {\n        \"dtype\": \"number\",\n        \"std\": 0,\n        \"min\": 0,\n        \"max\": 1,\n        \"num_unique_values\": 2,\n        \"samples\": [\n          1\n        ],\n        \"semantic_type\": \"\",\n        \"description\": \"\"\n      }\n    },\n    {\n      \"column\": \"great\",\n      \"properties\": {\n        \"dtype\": \"number\",\n        \"std\": 0,\n        \"min\": 0,\n        \"max\": 1,\n        \"num_unique_values\": 2,\n        \"samples\": [\n          1\n        ],\n        \"semantic_type\": \"\",\n        \"description\": \"\"\n      }\n    },\n    {\n      \"column\": \"thrones\",\n      \"properties\": {\n        \"dtype\": \"number\",\n        \"std\": 0,\n        \"min\": 1,\n        \"max\": 1,\n        \"num_unique_values\": 1,\n        \"samples\": [\n          1\n        ],\n        \"semantic_type\": \"\",\n        \"description\": \"\"\n      }\n    },\n    {\n      \"column\": \"amazing\",\n      \"properties\": {\n        \"dtype\": \"number\",\n        \"std\": 0,\n        \"min\": 0,\n        \"max\": 1,\n        \"num_unique_values\": 2,\n        \"samples\": [\n          0\n        ],\n        \"semantic_type\": \"\",\n        \"description\": \"\"\n      }\n    },\n    {\n      \"column\": \"best\",\n      \"properties\": {\n        \"dtype\": \"number\",\n        \"std\": 0,\n        \"min\": 0,\n        \"max\": 1,\n        \"num_unique_values\": 2,\n        \"samples\": [\n          1\n        ],\n        \"semantic_type\": \"\",\n        \"description\": \"\"\n      }\n    },\n    {\n      \"column\": \"tv\",\n      \"properties\": {\n        \"dtype\": \"number\",\n        \"std\": 0,\n        \"min\": 0,\n        \"max\": 1,\n        \"num_unique_values\": 2,\n        \"samples\": [\n          0\n        ],\n        \"semantic_type\": \"\",\n        \"description\": \"\"\n      }\n    },\n    {\n      \"column\": \"series\",\n      \"properties\": {\n        \"dtype\": \"number\",\n        \"std\": 0,\n        \"min\": 0,\n        \"max\": 1,\n        \"num_unique_values\": 2,\n        \"samples\": [\n          0\n        ],\n        \"semantic_type\": \"\",\n        \"description\": \"\"\n      }\n    },\n    {\n      \"column\": \"of\",\n      \"properties\": {\n        \"dtype\": \"number\",\n        \"std\": 0,\n        \"min\": 1,\n        \"max\": 1,\n        \"num_unique_values\": 1,\n        \"samples\": [\n          1\n        ],\n        \"semantic_type\": \"\",\n        \"description\": \"\"\n      }\n    },\n    {\n      \"column\": \"so\",\n      \"properties\": {\n        \"dtype\": \"number\",\n        \"std\": 0,\n        \"min\": 0,\n        \"max\": 1,\n        \"num_unique_values\": 2,\n        \"samples\": [\n          1\n        ],\n        \"semantic_type\": \"\",\n        \"description\": \"\"\n      }\n    },\n    {\n      \"column\": \"an\",\n      \"properties\": {\n        \"dtype\": \"number\",\n        \"std\": 0,\n        \"min\": 0,\n        \"max\": 1,\n        \"num_unique_values\": 2,\n        \"samples\": [\n          0\n        ],\n        \"semantic_type\": \"\",\n        \"description\": \"\"\n      }\n    }\n  ]\n}"
            }
          },
          "metadata": {},
          "execution_count": 28
        }
      ]
    },
    {
      "cell_type": "markdown",
      "source": [
        "# Continuous Bag-of-Words"
      ],
      "metadata": {
        "id": "OJ1Uge21hOsx"
      }
    },
    {
      "cell_type": "code",
      "source": [
        "# Re-import necessary modules\n",
        "import tensorflow as tf\n",
        "from tensorflow.keras.models import Sequential\n",
        "from tensorflow.keras.layers import Dense, Embedding, Lambda\n",
        "from tensorflow.keras.preprocessing.text import Tokenizer\n",
        "from tensorflow.keras.utils import to_categorical\n",
        "import numpy as np\n",
        "import matplotlib.pyplot as plt\n",
        "from sklearn.decomposition import PCA"
      ],
      "metadata": {
        "id": "ld1ebeue-vJr"
      },
      "execution_count": null,
      "outputs": []
    },
    {
      "cell_type": "code",
      "source": [
        "# Define the corpus\n",
        "corpus = [\n",
        "    'The cat sat on the mat',\n",
        "    'The dog ran in the park',\n",
        "    'The bird sang in the tree'\n",
        "]"
      ],
      "metadata": {
        "id": "QciI4V-rhWnA"
      },
      "execution_count": null,
      "outputs": []
    },
    {
      "cell_type": "code",
      "source": [
        "# Convert the corpus to a sequence of integers\n",
        "tokenizer = Tokenizer()\n",
        "tokenizer.fit_on_texts(corpus)\n",
        "sequences = tokenizer.texts_to_sequences(corpus)\n",
        "print(\"After converting our words in the corpus into vector of integers:\")\n",
        "print(sequences)"
      ],
      "metadata": {
        "colab": {
          "base_uri": "https://localhost:8080/"
        },
        "id": "4UjomAbNhXpU",
        "outputId": "8af505c3-d1f7-4532-ffa4-c64a85ec7cb3"
      },
      "execution_count": null,
      "outputs": [
        {
          "output_type": "stream",
          "name": "stdout",
          "text": [
            "After converting our words in the corpus into vector of integers:\n",
            "[[1, 3, 4, 5, 1, 6], [1, 7, 8, 2, 1, 9], [1, 10, 11, 2, 1, 12]]\n"
          ]
        }
      ]
    },
    {
      "cell_type": "code",
      "source": [
        "# Define the parameters\n",
        "vocab_size = len(tokenizer.word_index) + 1\n",
        "embedding_size = 10\n",
        "window_size = 2\n",
        "# Generate the context-target pairs\n",
        "contexts = []\n",
        "targets = []\n",
        "for sequence in sequences:\n",
        "    for i in range(window_size, len(sequence) - window_size):\n",
        "        context = sequence[i - window_size:i] + sequence[i + 1:i + window_size + 1]\n",
        "        target = sequence[i]\n",
        "        contexts.append(context)\n",
        "        targets.append(target)"
      ],
      "metadata": {
        "id": "9VMh_dDDhlLr"
      },
      "execution_count": null,
      "outputs": []
    },
    {
      "cell_type": "code",
      "source": [
        "# Convert the contexts and targets to numpy arrays\n",
        "X = np.array(contexts)\n",
        "y = to_categorical(targets, num_classes=vocab_size)\n",
        "\n",
        "# Define the CBOW model\n",
        "model = Sequential()\n",
        "model.add(Embedding(input_dim=vocab_size, output_dim=embedding_size, input_length=2 * window_size))\n",
        "model.add(Lambda(lambda x: tf.reduce_mean(x, axis=1)))\n",
        "model.add(Dense(units=vocab_size, activation='softmax'))\n",
        "\n",
        "# Compile the model\n",
        "model.compile(optimizer='adam', loss='categorical_crossentropy', metrics=['accuracy'])\n",
        "\n",
        "# Train the model\n",
        "model.fit(X, y, epochs=100, verbose=0)"
      ],
      "metadata": {
        "colab": {
          "base_uri": "https://localhost:8080/"
        },
        "id": "iczIDHPVhoLu",
        "outputId": "5034f1be-7bc4-414b-c85c-990fa55d4b88"
      },
      "execution_count": null,
      "outputs": [
        {
          "output_type": "stream",
          "name": "stderr",
          "text": [
            "/usr/local/lib/python3.11/dist-packages/keras/src/layers/core/embedding.py:90: UserWarning: Argument `input_length` is deprecated. Just remove it.\n",
            "  warnings.warn(\n"
          ]
        },
        {
          "output_type": "execute_result",
          "data": {
            "text/plain": [
              "<keras.src.callbacks.history.History at 0x7ab402dd8250>"
            ]
          },
          "metadata": {},
          "execution_count": 11
        }
      ]
    },
    {
      "cell_type": "code",
      "source": [
        "# Extract the embeddings\n",
        "embedding_layer = model.layers[0]\n",
        "embeddings = embedding_layer.get_weights()[0]\n",
        "\n",
        "# Perform PCA to reduce the dimensionality of the embeddings\n",
        "pca = PCA(n_components=2)\n",
        "reduced_embeddings = pca.fit_transform(embeddings)\n",
        "\n",
        "# Visualize the embeddings\n",
        "plt.figure(figsize=(5, 5))\n",
        "for word, idx in tokenizer.word_index.items():\n",
        "    x, y = reduced_embeddings[idx]\n",
        "    plt.scatter(x, y)\n",
        "    plt.annotate(word, xy=(x, y), xytext=(5, 2),\n",
        "                 textcoords='offset points', ha='right', va='bottom')\n",
        "plt.title(\"Word Embeddings Visualized\")\n",
        "plt.show()"
      ],
      "metadata": {
        "colab": {
          "base_uri": "https://localhost:8080/",
          "height": 468
        },
        "id": "IvDy5esEhotn",
        "outputId": "8477356c-d4a3-4a76-a9d1-44456c4e34a4"
      },
      "execution_count": null,
      "outputs": [
        {
          "output_type": "display_data",
          "data": {
            "text/plain": [
              "<Figure size 500x500 with 1 Axes>"
            ],
            "image/png": "[encoded data removed]"
          },
          "metadata": {}
        }
      ]
    },
    {
      "cell_type": "code",
      "source": [],
      "metadata": {
        "id": "NoFqch4ohw7q"
      },
      "execution_count": null,
      "outputs": []
    }
  ]
}