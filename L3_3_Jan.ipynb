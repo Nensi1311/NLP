{
 "cells": [
  {
   "cell_type": "markdown",
   "id": "29ef7bdd",
   "metadata": {},
   "source": [
    "# Sentiment Analysis"
   ]
  },
  {
   "cell_type": "code",
   "execution_count": 3,
   "id": "2bb60bbd",
   "metadata": {},
   "outputs": [
    {
     "name": "stdout",
     "output_type": "stream",
     "text": [
      "Collecting textblob\n",
      "  Downloading textblob-0.18.0.post0-py3-none-any.whl (626 kB)\n",
      "     -------------------------------------- 626.3/626.3 kB 1.9 MB/s eta 0:00:00\n",
      "Collecting nltk>=3.8\n",
      "  Downloading nltk-3.9.1-py3-none-any.whl (1.5 MB)\n",
      "     ---------------------------------------- 1.5/1.5 MB 2.2 MB/s eta 0:00:00\n",
      "Requirement already satisfied: tqdm in c:\\users\\nensi\\anaconda3\\lib\\site-packages (from nltk>=3.8->textblob) (4.64.1)\n",
      "Requirement already satisfied: regex>=2021.8.3 in c:\\users\\nensi\\anaconda3\\lib\\site-packages (from nltk>=3.8->textblob) (2022.7.9)\n",
      "Requirement already satisfied: click in c:\\users\\nensi\\anaconda3\\lib\\site-packages (from nltk>=3.8->textblob) (8.0.4)\n",
      "Requirement already satisfied: joblib in c:\\users\\nensi\\anaconda3\\lib\\site-packages (from nltk>=3.8->textblob) (1.1.1)\n",
      "Requirement already satisfied: colorama in c:\\users\\nensi\\anaconda3\\lib\\site-packages (from click->nltk>=3.8->textblob) (0.4.6)\n",
      "Installing collected packages: nltk, textblob\n",
      "  Attempting uninstall: nltk\n",
      "    Found existing installation: nltk 3.5\n",
      "    Uninstalling nltk-3.5:\n",
      "      Successfully uninstalled nltk-3.5\n",
      "Successfully installed nltk-3.9.1 textblob-0.18.0.post0\n",
      "Note: you may need to restart the kernel to use updated packages.\n"
     ]
    },
    {
     "name": "stderr",
     "output_type": "stream",
     "text": [
      "WARNING: Ignoring invalid distribution -illow (c:\\users\\nensi\\anaconda3\\lib\\site-packages)\n",
      "WARNING: Ignoring invalid distribution -illow (c:\\users\\nensi\\anaconda3\\lib\\site-packages)\n",
      "WARNING: Ignoring invalid distribution -illow (c:\\users\\nensi\\anaconda3\\lib\\site-packages)\n",
      "    WARNING: Ignoring invalid distribution -illow (c:\\users\\nensi\\anaconda3\\lib\\site-packages)\n",
      "WARNING: Ignoring invalid distribution -illow (c:\\users\\nensi\\anaconda3\\lib\\site-packages)\n",
      "WARNING: Ignoring invalid distribution -illow (c:\\users\\nensi\\anaconda3\\lib\\site-packages)\n",
      "WARNING: Ignoring invalid distribution -illow (c:\\users\\nensi\\anaconda3\\lib\\site-packages)\n",
      "WARNING: Ignoring invalid distribution -illow (c:\\users\\nensi\\anaconda3\\lib\\site-packages)\n",
      "WARNING: Ignoring invalid distribution -illow (c:\\users\\nensi\\anaconda3\\lib\\site-packages)\n"
     ]
    }
   ],
   "source": [
    "pip install textblob"
   ]
  },
  {
   "cell_type": "code",
   "execution_count": 4,
   "id": "8f2ca1bb",
   "metadata": {},
   "outputs": [],
   "source": [
    "from textblob import TextBlob"
   ]
  },
  {
   "cell_type": "code",
   "execution_count": 5,
   "id": "31fb583c",
   "metadata": {},
   "outputs": [],
   "source": [
    "text = \"This product is amazing! I highly recommand it.\"\n",
    "blob = TextBlob(text)\n",
    "sentiment = blob.sentiment.polarity"
   ]
  },
  {
   "cell_type": "code",
   "execution_count": 6,
   "id": "c8fc861e",
   "metadata": {},
   "outputs": [
    {
     "name": "stdout",
     "output_type": "stream",
     "text": [
      "Sentiment Polarity:, 0.45500000000000007\n"
     ]
    }
   ],
   "source": [
    "print(f\"Sentiment Polarity: {sentiment}\")"
   ]
  },
  {
   "cell_type": "code",
   "execution_count": 8,
   "id": "465ddcac",
   "metadata": {},
   "outputs": [],
   "source": [
    "text2 = \"The services was terrible, and the staff was rude.\"\n",
    "blob2 = TextBlob(text2)\n",
    "sentiment2 = blob2.sentiment.polarity"
   ]
  },
  {
   "cell_type": "code",
   "execution_count": 9,
   "id": "ed450a6f",
   "metadata": {},
   "outputs": [
    {
     "name": "stdout",
     "output_type": "stream",
     "text": [
      "Sentiment Polarity:, -0.65\n"
     ]
    }
   ],
   "source": [
    "print(f\"Sentiment Polarity: {sentiment2}\")"
   ]
  },
  {
   "cell_type": "markdown",
   "id": "cd5ecb83",
   "metadata": {},
   "source": [
    "# Topic Modeling and Document Clustering"
   ]
  },
  {
   "cell_type": "code",
   "execution_count": 10,
   "id": "48865bd5",
   "metadata": {},
   "outputs": [],
   "source": [
    "import gensim"
   ]
  },
  {
   "cell_type": "code",
   "execution_count": 17,
   "id": "83c849d7",
   "metadata": {},
   "outputs": [],
   "source": [
    "from gensim.corpora import Dictionary\n",
    "from gensim import corpora"
   ]
  },
  {
   "cell_type": "code",
   "execution_count": 18,
   "id": "0dc9ad55",
   "metadata": {},
   "outputs": [],
   "source": [
    "documents = [\"This is a document about machine learning.\",\n",
    "            \"Another document on artificial intelligence and deep learning.\",\n",
    "            \"A third document discussing natural language processing.\",\n",
    "            \"This document covers data mining and big data analytics.\",\n",
    "            \"This is a document about machine learning.\"]"
   ]
  },
  {
   "cell_type": "code",
   "execution_count": 19,
   "id": "b8e4273e",
   "metadata": {},
   "outputs": [],
   "source": [
    "dictionary = corpora.Dictionary(doc.split() for doc in documents)"
   ]
  },
  {
   "cell_type": "code",
   "execution_count": 20,
   "id": "6fb04f5d",
   "metadata": {},
   "outputs": [],
   "source": [
    "corpus = [dictionary.doc2bow(doc.split()) for doc in documents]"
   ]
  },
  {
   "cell_type": "code",
   "execution_count": 21,
   "id": "1905c81b",
   "metadata": {},
   "outputs": [],
   "source": [
    "num_topics = 2\n",
    "lda_model = gensim.models.LdaMulticore(corpus=corpus, id2word=dictionary, num_topics=num_topics)"
   ]
  },
  {
   "cell_type": "code",
   "execution_count": 22,
   "id": "ee88ea06",
   "metadata": {},
   "outputs": [
    {
     "name": "stdout",
     "output_type": "stream",
     "text": [
      "[(0, '0.099*\"document\" + 0.071*\"learning.\" + 0.070*\"This\" + 0.065*\"data\" + 0.060*\"and\" + 0.051*\"machine\" + 0.050*\"a\" + 0.048*\"is\" + 0.048*\"about\" + 0.039*\"covers\"'), (1, '0.094*\"document\" + 0.057*\"This\" + 0.056*\"learning.\" + 0.051*\"language\" + 0.051*\"natural\" + 0.051*\"processing.\" + 0.051*\"A\" + 0.051*\"third\" + 0.051*\"discussing\" + 0.049*\"about\"')]\n"
     ]
    }
   ],
   "source": [
    "print(lda_model.print_topics())"
   ]
  },
  {
   "cell_type": "code",
   "execution_count": 23,
   "id": "80f9974b",
   "metadata": {},
   "outputs": [],
   "source": [
    "doc1 = documents[0]\n",
    "doc2 = documents[2]\n",
    "doc1_bow = dictionary.doc2bow(doc1.split())\n",
    "doc2_bow = dictionary.doc2bow(doc2.split())\n",
    "similarity = gensim.matutils.cossim(doc1_bow, doc2_bow)"
   ]
  },
  {
   "cell_type": "code",
   "execution_count": 24,
   "id": "59eee15e",
   "metadata": {},
   "outputs": [
    {
     "name": "stdout",
     "output_type": "stream",
     "text": [
      "Similarity between '(doc1)' and '(doc2)': 0.14285714285714285\n"
     ]
    }
   ],
   "source": [
    "print(f\"Similarity between '(doc1)' and '(doc2)': {similarity}\")"
   ]
  },
  {
   "cell_type": "code",
   "execution_count": 25,
   "id": "622a0095",
   "metadata": {},
   "outputs": [],
   "source": [
    "doc1 = documents[0]\n",
    "doc2 = documents[1]\n",
    "doc1_bow = dictionary.doc2bow(doc1.split())\n",
    "doc2_bow = dictionary.doc2bow(doc2.split())\n",
    "similarity = gensim.matutils.cossim(doc1_bow, doc2_bow)"
   ]
  },
  {
   "cell_type": "code",
   "execution_count": 26,
   "id": "06095f11",
   "metadata": {},
   "outputs": [
    {
     "name": "stdout",
     "output_type": "stream",
     "text": [
      "Similarity between '(doc1)' and '(doc2)': 0.26726124191242434\n"
     ]
    }
   ],
   "source": [
    "print(f\"Similarity between '(doc1)' and '(doc2)': {similarity}\")"
   ]
  },
  {
   "cell_type": "code",
   "execution_count": 27,
   "id": "5abcd321",
   "metadata": {},
   "outputs": [],
   "source": [
    "doc1 = documents[0]\n",
    "doc2 = documents[4]\n",
    "doc1_bow = dictionary.doc2bow(doc1.split())\n",
    "doc2_bow = dictionary.doc2bow(doc2.split())\n",
    "similarity = gensim.matutils.cossim(doc1_bow, doc2_bow)"
   ]
  },
  {
   "cell_type": "code",
   "execution_count": 28,
   "id": "5a966309",
   "metadata": {},
   "outputs": [
    {
     "name": "stdout",
     "output_type": "stream",
     "text": [
      "Similarity between '(doc1)' and '(doc2)': 0.9999999999999999\n"
     ]
    }
   ],
   "source": [
    "print(f\"Similarity between '(doc1)' and '(doc2)': {similarity}\")"
   ]
  },
  {
   "cell_type": "code",
   "execution_count": null,
   "id": "fe741739",
   "metadata": {},
   "outputs": [],
   "source": []
  }
 ],
 "metadata": {
  "kernelspec": {
   "display_name": "Python 3 (ipykernel)",
   "language": "python",
   "name": "python3"
  },
  "language_info": {
   "codemirror_mode": {
    "name": "ipython",
    "version": 3
   },
   "file_extension": ".py",
   "mimetype": "text/x-python",
   "name": "python",
   "nbconvert_exporter": "python",
   "pygments_lexer": "ipython3",
   "version": "3.10.9"
  }
 },
 "nbformat": 4,
 "nbformat_minor": 5
}
